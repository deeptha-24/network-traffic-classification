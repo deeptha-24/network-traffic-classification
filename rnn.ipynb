{
  "nbformat": 4,
  "nbformat_minor": 0,
  "metadata": {
    "colab": {
      "provenance": []
    },
    "kernelspec": {
      "name": "python3",
      "display_name": "Python 3"
    },
    "language_info": {
      "name": "python"
    }
  },
  "cells": [
    {
      "cell_type": "code",
      "execution_count": null,
      "metadata": {
        "id": "iZYYmWnLtgDe"
      },
      "outputs": [],
      "source": [
        "import numpy as np\n",
        "import pandas as pd\n",
        "import matplotlib as mpl\n",
        "import matplotlib.pyplot as plt\n",
        "\n",
        "%matplotlib inline"
      ]
    },
    {
      "cell_type": "code",
      "source": [
        "from google.colab import drive\n",
        "drive.mount('/content/drive')"
      ],
      "metadata": {
        "colab": {
          "base_uri": "https://localhost:8080/"
        },
        "id": "lZ9wntTGt0Vo",
        "outputId": "e5d63b78-abcd-4d3e-a938-ade73bb84f4b"
      },
      "execution_count": null,
      "outputs": [
        {
          "output_type": "stream",
          "name": "stdout",
          "text": [
            "Drive already mounted at /content/drive; to attempt to forcibly remount, call drive.mount(\"/content/drive\", force_remount=True).\n"
          ]
        }
      ]
    },
    {
      "cell_type": "code",
      "source": [
        "DIRECTORY = '/content/drive/MyDrive/Dataset-Unicauca-Version2-87Atts.csv'\n",
        "data = pd.read_csv(DIRECTORY)"
      ],
      "metadata": {
        "id": "AesbhazMvi_S"
      },
      "execution_count": null,
      "outputs": []
    },
    {
      "cell_type": "code",
      "source": [
        "data.head()"
      ],
      "metadata": {
        "colab": {
          "base_uri": "https://localhost:8080/",
          "height": 473
        },
        "id": "-sdqLCZ4vM2U",
        "outputId": "1e78e020-418b-42c2-807c-28bd255858fd"
      },
      "execution_count": null,
      "outputs": [
        {
          "output_type": "execute_result",
          "data": {
            "text/plain": [
              "                                 Flow.ID      Source.IP  Source.Port  \\\n",
              "0    172.19.1.46-10.200.7.7-52422-3128-6    172.19.1.46        52422   \n",
              "1    172.19.1.46-10.200.7.7-52422-3128-6     10.200.7.7         3128   \n",
              "2   10.200.7.217-50.31.185.39-38848-80-6   50.31.185.39           80   \n",
              "3   10.200.7.217-50.31.185.39-38848-80-6   50.31.185.39           80   \n",
              "4  192.168.72.43-10.200.7.7-55961-3128-6  192.168.72.43        55961   \n",
              "\n",
              "  Destination.IP  Destination.Port  Protocol           Timestamp  \\\n",
              "0     10.200.7.7              3128         6  26/04/201711:11:17   \n",
              "1    172.19.1.46             52422         6  26/04/201711:11:17   \n",
              "2   10.200.7.217             38848         6  26/04/201711:11:17   \n",
              "3   10.200.7.217             38848         6  26/04/201711:11:17   \n",
              "4     10.200.7.7              3128         6  26/04/201711:11:17   \n",
              "\n",
              "   Flow.Duration  Total.Fwd.Packets  Total.Backward.Packets  ...  Active.Std  \\\n",
              "0          45523                 22                      55  ...         0.0   \n",
              "1              1                  2                       0  ...         0.0   \n",
              "2              1                  3                       0  ...         0.0   \n",
              "3            217                  1                       3  ...         0.0   \n",
              "4          78068                  5                       0  ...         0.0   \n",
              "\n",
              "   Active.Max  Active.Min  Idle.Mean  Idle.Std  Idle.Max  Idle.Min   Label  \\\n",
              "0         0.0         0.0        0.0       0.0       0.0       0.0  BENIGN   \n",
              "1         0.0         0.0        0.0       0.0       0.0       0.0  BENIGN   \n",
              "2         0.0         0.0        0.0       0.0       0.0       0.0  BENIGN   \n",
              "3         0.0         0.0        0.0       0.0       0.0       0.0  BENIGN   \n",
              "4         0.0         0.0        0.0       0.0       0.0       0.0  BENIGN   \n",
              "\n",
              "   L7Protocol  ProtocolName  \n",
              "0         131    HTTP_PROXY  \n",
              "1         131    HTTP_PROXY  \n",
              "2           7          HTTP  \n",
              "3           7          HTTP  \n",
              "4         131    HTTP_PROXY  \n",
              "\n",
              "[5 rows x 87 columns]"
            ],
            "text/html": [
              "\n",
              "  <div id=\"df-e37594b3-e7b4-4a24-bfc9-4be6da18f4a2\">\n",
              "    <div class=\"colab-df-container\">\n",
              "      <div>\n",
              "<style scoped>\n",
              "    .dataframe tbody tr th:only-of-type {\n",
              "        vertical-align: middle;\n",
              "    }\n",
              "\n",
              "    .dataframe tbody tr th {\n",
              "        vertical-align: top;\n",
              "    }\n",
              "\n",
              "    .dataframe thead th {\n",
              "        text-align: right;\n",
              "    }\n",
              "</style>\n",
              "<table border=\"1\" class=\"dataframe\">\n",
              "  <thead>\n",
              "    <tr style=\"text-align: right;\">\n",
              "      <th></th>\n",
              "      <th>Flow.ID</th>\n",
              "      <th>Source.IP</th>\n",
              "      <th>Source.Port</th>\n",
              "      <th>Destination.IP</th>\n",
              "      <th>Destination.Port</th>\n",
              "      <th>Protocol</th>\n",
              "      <th>Timestamp</th>\n",
              "      <th>Flow.Duration</th>\n",
              "      <th>Total.Fwd.Packets</th>\n",
              "      <th>Total.Backward.Packets</th>\n",
              "      <th>...</th>\n",
              "      <th>Active.Std</th>\n",
              "      <th>Active.Max</th>\n",
              "      <th>Active.Min</th>\n",
              "      <th>Idle.Mean</th>\n",
              "      <th>Idle.Std</th>\n",
              "      <th>Idle.Max</th>\n",
              "      <th>Idle.Min</th>\n",
              "      <th>Label</th>\n",
              "      <th>L7Protocol</th>\n",
              "      <th>ProtocolName</th>\n",
              "    </tr>\n",
              "  </thead>\n",
              "  <tbody>\n",
              "    <tr>\n",
              "      <th>0</th>\n",
              "      <td>172.19.1.46-10.200.7.7-52422-3128-6</td>\n",
              "      <td>172.19.1.46</td>\n",
              "      <td>52422</td>\n",
              "      <td>10.200.7.7</td>\n",
              "      <td>3128</td>\n",
              "      <td>6</td>\n",
              "      <td>26/04/201711:11:17</td>\n",
              "      <td>45523</td>\n",
              "      <td>22</td>\n",
              "      <td>55</td>\n",
              "      <td>...</td>\n",
              "      <td>0.0</td>\n",
              "      <td>0.0</td>\n",
              "      <td>0.0</td>\n",
              "      <td>0.0</td>\n",
              "      <td>0.0</td>\n",
              "      <td>0.0</td>\n",
              "      <td>0.0</td>\n",
              "      <td>BENIGN</td>\n",
              "      <td>131</td>\n",
              "      <td>HTTP_PROXY</td>\n",
              "    </tr>\n",
              "    <tr>\n",
              "      <th>1</th>\n",
              "      <td>172.19.1.46-10.200.7.7-52422-3128-6</td>\n",
              "      <td>10.200.7.7</td>\n",
              "      <td>3128</td>\n",
              "      <td>172.19.1.46</td>\n",
              "      <td>52422</td>\n",
              "      <td>6</td>\n",
              "      <td>26/04/201711:11:17</td>\n",
              "      <td>1</td>\n",
              "      <td>2</td>\n",
              "      <td>0</td>\n",
              "      <td>...</td>\n",
              "      <td>0.0</td>\n",
              "      <td>0.0</td>\n",
              "      <td>0.0</td>\n",
              "      <td>0.0</td>\n",
              "      <td>0.0</td>\n",
              "      <td>0.0</td>\n",
              "      <td>0.0</td>\n",
              "      <td>BENIGN</td>\n",
              "      <td>131</td>\n",
              "      <td>HTTP_PROXY</td>\n",
              "    </tr>\n",
              "    <tr>\n",
              "      <th>2</th>\n",
              "      <td>10.200.7.217-50.31.185.39-38848-80-6</td>\n",
              "      <td>50.31.185.39</td>\n",
              "      <td>80</td>\n",
              "      <td>10.200.7.217</td>\n",
              "      <td>38848</td>\n",
              "      <td>6</td>\n",
              "      <td>26/04/201711:11:17</td>\n",
              "      <td>1</td>\n",
              "      <td>3</td>\n",
              "      <td>0</td>\n",
              "      <td>...</td>\n",
              "      <td>0.0</td>\n",
              "      <td>0.0</td>\n",
              "      <td>0.0</td>\n",
              "      <td>0.0</td>\n",
              "      <td>0.0</td>\n",
              "      <td>0.0</td>\n",
              "      <td>0.0</td>\n",
              "      <td>BENIGN</td>\n",
              "      <td>7</td>\n",
              "      <td>HTTP</td>\n",
              "    </tr>\n",
              "    <tr>\n",
              "      <th>3</th>\n",
              "      <td>10.200.7.217-50.31.185.39-38848-80-6</td>\n",
              "      <td>50.31.185.39</td>\n",
              "      <td>80</td>\n",
              "      <td>10.200.7.217</td>\n",
              "      <td>38848</td>\n",
              "      <td>6</td>\n",
              "      <td>26/04/201711:11:17</td>\n",
              "      <td>217</td>\n",
              "      <td>1</td>\n",
              "      <td>3</td>\n",
              "      <td>...</td>\n",
              "      <td>0.0</td>\n",
              "      <td>0.0</td>\n",
              "      <td>0.0</td>\n",
              "      <td>0.0</td>\n",
              "      <td>0.0</td>\n",
              "      <td>0.0</td>\n",
              "      <td>0.0</td>\n",
              "      <td>BENIGN</td>\n",
              "      <td>7</td>\n",
              "      <td>HTTP</td>\n",
              "    </tr>\n",
              "    <tr>\n",
              "      <th>4</th>\n",
              "      <td>192.168.72.43-10.200.7.7-55961-3128-6</td>\n",
              "      <td>192.168.72.43</td>\n",
              "      <td>55961</td>\n",
              "      <td>10.200.7.7</td>\n",
              "      <td>3128</td>\n",
              "      <td>6</td>\n",
              "      <td>26/04/201711:11:17</td>\n",
              "      <td>78068</td>\n",
              "      <td>5</td>\n",
              "      <td>0</td>\n",
              "      <td>...</td>\n",
              "      <td>0.0</td>\n",
              "      <td>0.0</td>\n",
              "      <td>0.0</td>\n",
              "      <td>0.0</td>\n",
              "      <td>0.0</td>\n",
              "      <td>0.0</td>\n",
              "      <td>0.0</td>\n",
              "      <td>BENIGN</td>\n",
              "      <td>131</td>\n",
              "      <td>HTTP_PROXY</td>\n",
              "    </tr>\n",
              "  </tbody>\n",
              "</table>\n",
              "<p>5 rows × 87 columns</p>\n",
              "</div>\n",
              "      <button class=\"colab-df-convert\" onclick=\"convertToInteractive('df-e37594b3-e7b4-4a24-bfc9-4be6da18f4a2')\"\n",
              "              title=\"Convert this dataframe to an interactive table.\"\n",
              "              style=\"display:none;\">\n",
              "        \n",
              "  <svg xmlns=\"http://www.w3.org/2000/svg\" height=\"24px\"viewBox=\"0 0 24 24\"\n",
              "       width=\"24px\">\n",
              "    <path d=\"M0 0h24v24H0V0z\" fill=\"none\"/>\n",
              "    <path d=\"M18.56 5.44l.94 2.06.94-2.06 2.06-.94-2.06-.94-.94-2.06-.94 2.06-2.06.94zm-11 1L8.5 8.5l.94-2.06 2.06-.94-2.06-.94L8.5 2.5l-.94 2.06-2.06.94zm10 10l.94 2.06.94-2.06 2.06-.94-2.06-.94-.94-2.06-.94 2.06-2.06.94z\"/><path d=\"M17.41 7.96l-1.37-1.37c-.4-.4-.92-.59-1.43-.59-.52 0-1.04.2-1.43.59L10.3 9.45l-7.72 7.72c-.78.78-.78 2.05 0 2.83L4 21.41c.39.39.9.59 1.41.59.51 0 1.02-.2 1.41-.59l7.78-7.78 2.81-2.81c.8-.78.8-2.07 0-2.86zM5.41 20L4 18.59l7.72-7.72 1.47 1.35L5.41 20z\"/>\n",
              "  </svg>\n",
              "      </button>\n",
              "      \n",
              "  <style>\n",
              "    .colab-df-container {\n",
              "      display:flex;\n",
              "      flex-wrap:wrap;\n",
              "      gap: 12px;\n",
              "    }\n",
              "\n",
              "    .colab-df-convert {\n",
              "      background-color: #E8F0FE;\n",
              "      border: none;\n",
              "      border-radius: 50%;\n",
              "      cursor: pointer;\n",
              "      display: none;\n",
              "      fill: #1967D2;\n",
              "      height: 32px;\n",
              "      padding: 0 0 0 0;\n",
              "      width: 32px;\n",
              "    }\n",
              "\n",
              "    .colab-df-convert:hover {\n",
              "      background-color: #E2EBFA;\n",
              "      box-shadow: 0px 1px 2px rgba(60, 64, 67, 0.3), 0px 1px 3px 1px rgba(60, 64, 67, 0.15);\n",
              "      fill: #174EA6;\n",
              "    }\n",
              "\n",
              "    [theme=dark] .colab-df-convert {\n",
              "      background-color: #3B4455;\n",
              "      fill: #D2E3FC;\n",
              "    }\n",
              "\n",
              "    [theme=dark] .colab-df-convert:hover {\n",
              "      background-color: #434B5C;\n",
              "      box-shadow: 0px 1px 3px 1px rgba(0, 0, 0, 0.15);\n",
              "      filter: drop-shadow(0px 1px 2px rgba(0, 0, 0, 0.3));\n",
              "      fill: #FFFFFF;\n",
              "    }\n",
              "  </style>\n",
              "\n",
              "      <script>\n",
              "        const buttonEl =\n",
              "          document.querySelector('#df-e37594b3-e7b4-4a24-bfc9-4be6da18f4a2 button.colab-df-convert');\n",
              "        buttonEl.style.display =\n",
              "          google.colab.kernel.accessAllowed ? 'block' : 'none';\n",
              "\n",
              "        async function convertToInteractive(key) {\n",
              "          const element = document.querySelector('#df-e37594b3-e7b4-4a24-bfc9-4be6da18f4a2');\n",
              "          const dataTable =\n",
              "            await google.colab.kernel.invokeFunction('convertToInteractive',\n",
              "                                                     [key], {});\n",
              "          if (!dataTable) return;\n",
              "\n",
              "          const docLinkHtml = 'Like what you see? Visit the ' +\n",
              "            '<a target=\"_blank\" href=https://colab.research.google.com/notebooks/data_table.ipynb>data table notebook</a>'\n",
              "            + ' to learn more about interactive tables.';\n",
              "          element.innerHTML = '';\n",
              "          dataTable['output_type'] = 'display_data';\n",
              "          await google.colab.output.renderOutput(dataTable, element);\n",
              "          const docLink = document.createElement('div');\n",
              "          docLink.innerHTML = docLinkHtml;\n",
              "          element.appendChild(docLink);\n",
              "        }\n",
              "      </script>\n",
              "    </div>\n",
              "  </div>\n",
              "  "
            ]
          },
          "metadata": {},
          "execution_count": 4
        }
      ]
    },
    {
      "cell_type": "code",
      "source": [],
      "metadata": {
        "id": "AymdnlwIr9Xa"
      },
      "execution_count": null,
      "outputs": []
    },
    {
      "cell_type": "code",
      "source": [
        "data.shape"
      ],
      "metadata": {
        "colab": {
          "base_uri": "https://localhost:8080/"
        },
        "id": "iVvF9AvCv416",
        "outputId": "20a81830-97a5-4115-d380-c96d28ab7495"
      },
      "execution_count": null,
      "outputs": [
        {
          "output_type": "execute_result",
          "data": {
            "text/plain": [
              "(3577296, 87)"
            ]
          },
          "metadata": {},
          "execution_count": 5
        }
      ]
    },
    {
      "cell_type": "code",
      "source": [
        "data.columns"
      ],
      "metadata": {
        "colab": {
          "base_uri": "https://localhost:8080/"
        },
        "id": "nHAjcGlRv97c",
        "outputId": "b7b9e528-325b-4279-ec53-c5928a5a6862"
      },
      "execution_count": null,
      "outputs": [
        {
          "output_type": "execute_result",
          "data": {
            "text/plain": [
              "Index(['Flow.ID', 'Source.IP', 'Source.Port', 'Destination.IP',\n",
              "       'Destination.Port', 'Protocol', 'Timestamp', 'Flow.Duration',\n",
              "       'Total.Fwd.Packets', 'Total.Backward.Packets',\n",
              "       'Total.Length.of.Fwd.Packets', 'Total.Length.of.Bwd.Packets',\n",
              "       'Fwd.Packet.Length.Max', 'Fwd.Packet.Length.Min',\n",
              "       'Fwd.Packet.Length.Mean', 'Fwd.Packet.Length.Std',\n",
              "       'Bwd.Packet.Length.Max', 'Bwd.Packet.Length.Min',\n",
              "       'Bwd.Packet.Length.Mean', 'Bwd.Packet.Length.Std', 'Flow.Bytes.s',\n",
              "       'Flow.Packets.s', 'Flow.IAT.Mean', 'Flow.IAT.Std', 'Flow.IAT.Max',\n",
              "       'Flow.IAT.Min', 'Fwd.IAT.Total', 'Fwd.IAT.Mean', 'Fwd.IAT.Std',\n",
              "       'Fwd.IAT.Max', 'Fwd.IAT.Min', 'Bwd.IAT.Total', 'Bwd.IAT.Mean',\n",
              "       'Bwd.IAT.Std', 'Bwd.IAT.Max', 'Bwd.IAT.Min', 'Fwd.PSH.Flags',\n",
              "       'Bwd.PSH.Flags', 'Fwd.URG.Flags', 'Bwd.URG.Flags', 'Fwd.Header.Length',\n",
              "       'Bwd.Header.Length', 'Fwd.Packets.s', 'Bwd.Packets.s',\n",
              "       'Min.Packet.Length', 'Max.Packet.Length', 'Packet.Length.Mean',\n",
              "       'Packet.Length.Std', 'Packet.Length.Variance', 'FIN.Flag.Count',\n",
              "       'SYN.Flag.Count', 'RST.Flag.Count', 'PSH.Flag.Count', 'ACK.Flag.Count',\n",
              "       'URG.Flag.Count', 'CWE.Flag.Count', 'ECE.Flag.Count', 'Down.Up.Ratio',\n",
              "       'Average.Packet.Size', 'Avg.Fwd.Segment.Size', 'Avg.Bwd.Segment.Size',\n",
              "       'Fwd.Header.Length.1', 'Fwd.Avg.Bytes.Bulk', 'Fwd.Avg.Packets.Bulk',\n",
              "       'Fwd.Avg.Bulk.Rate', 'Bwd.Avg.Bytes.Bulk', 'Bwd.Avg.Packets.Bulk',\n",
              "       'Bwd.Avg.Bulk.Rate', 'Subflow.Fwd.Packets', 'Subflow.Fwd.Bytes',\n",
              "       'Subflow.Bwd.Packets', 'Subflow.Bwd.Bytes', 'Init_Win_bytes_forward',\n",
              "       'Init_Win_bytes_backward', 'act_data_pkt_fwd', 'min_seg_size_forward',\n",
              "       'Active.Mean', 'Active.Std', 'Active.Max', 'Active.Min', 'Idle.Mean',\n",
              "       'Idle.Std', 'Idle.Max', 'Idle.Min', 'Label', 'L7Protocol',\n",
              "       'ProtocolName'],\n",
              "      dtype='object')"
            ]
          },
          "metadata": {},
          "execution_count": 6
        }
      ]
    },
    {
      "cell_type": "code",
      "source": [
        "data.info()"
      ],
      "metadata": {
        "colab": {
          "base_uri": "https://localhost:8080/"
        },
        "id": "vK90xBlKv_uQ",
        "outputId": "41bc3368-a42d-4875-89b9-1d7c57d98815"
      },
      "execution_count": null,
      "outputs": [
        {
          "output_type": "stream",
          "name": "stdout",
          "text": [
            "<class 'pandas.core.frame.DataFrame'>\n",
            "RangeIndex: 3577296 entries, 0 to 3577295\n",
            "Data columns (total 87 columns):\n",
            " #   Column                       Dtype  \n",
            "---  ------                       -----  \n",
            " 0   Flow.ID                      object \n",
            " 1   Source.IP                    object \n",
            " 2   Source.Port                  int64  \n",
            " 3   Destination.IP               object \n",
            " 4   Destination.Port             int64  \n",
            " 5   Protocol                     int64  \n",
            " 6   Timestamp                    object \n",
            " 7   Flow.Duration                int64  \n",
            " 8   Total.Fwd.Packets            int64  \n",
            " 9   Total.Backward.Packets       int64  \n",
            " 10  Total.Length.of.Fwd.Packets  int64  \n",
            " 11  Total.Length.of.Bwd.Packets  float64\n",
            " 12  Fwd.Packet.Length.Max        int64  \n",
            " 13  Fwd.Packet.Length.Min        int64  \n",
            " 14  Fwd.Packet.Length.Mean       float64\n",
            " 15  Fwd.Packet.Length.Std        float64\n",
            " 16  Bwd.Packet.Length.Max        int64  \n",
            " 17  Bwd.Packet.Length.Min        int64  \n",
            " 18  Bwd.Packet.Length.Mean       float64\n",
            " 19  Bwd.Packet.Length.Std        float64\n",
            " 20  Flow.Bytes.s                 float64\n",
            " 21  Flow.Packets.s               float64\n",
            " 22  Flow.IAT.Mean                float64\n",
            " 23  Flow.IAT.Std                 float64\n",
            " 24  Flow.IAT.Max                 float64\n",
            " 25  Flow.IAT.Min                 int64  \n",
            " 26  Fwd.IAT.Total                float64\n",
            " 27  Fwd.IAT.Mean                 float64\n",
            " 28  Fwd.IAT.Std                  float64\n",
            " 29  Fwd.IAT.Max                  float64\n",
            " 30  Fwd.IAT.Min                  float64\n",
            " 31  Bwd.IAT.Total                float64\n",
            " 32  Bwd.IAT.Mean                 float64\n",
            " 33  Bwd.IAT.Std                  float64\n",
            " 34  Bwd.IAT.Max                  float64\n",
            " 35  Bwd.IAT.Min                  float64\n",
            " 36  Fwd.PSH.Flags                int64  \n",
            " 37  Bwd.PSH.Flags                int64  \n",
            " 38  Fwd.URG.Flags                int64  \n",
            " 39  Bwd.URG.Flags                int64  \n",
            " 40  Fwd.Header.Length            int64  \n",
            " 41  Bwd.Header.Length            int64  \n",
            " 42  Fwd.Packets.s                float64\n",
            " 43  Bwd.Packets.s                float64\n",
            " 44  Min.Packet.Length            int64  \n",
            " 45  Max.Packet.Length            int64  \n",
            " 46  Packet.Length.Mean           float64\n",
            " 47  Packet.Length.Std            float64\n",
            " 48  Packet.Length.Variance       float64\n",
            " 49  FIN.Flag.Count               int64  \n",
            " 50  SYN.Flag.Count               int64  \n",
            " 51  RST.Flag.Count               int64  \n",
            " 52  PSH.Flag.Count               int64  \n",
            " 53  ACK.Flag.Count               int64  \n",
            " 54  URG.Flag.Count               int64  \n",
            " 55  CWE.Flag.Count               int64  \n",
            " 56  ECE.Flag.Count               int64  \n",
            " 57  Down.Up.Ratio                int64  \n",
            " 58  Average.Packet.Size          float64\n",
            " 59  Avg.Fwd.Segment.Size         float64\n",
            " 60  Avg.Bwd.Segment.Size         float64\n",
            " 61  Fwd.Header.Length.1          int64  \n",
            " 62  Fwd.Avg.Bytes.Bulk           int64  \n",
            " 63  Fwd.Avg.Packets.Bulk         int64  \n",
            " 64  Fwd.Avg.Bulk.Rate            int64  \n",
            " 65  Bwd.Avg.Bytes.Bulk           int64  \n",
            " 66  Bwd.Avg.Packets.Bulk         int64  \n",
            " 67  Bwd.Avg.Bulk.Rate            int64  \n",
            " 68  Subflow.Fwd.Packets          int64  \n",
            " 69  Subflow.Fwd.Bytes            int64  \n",
            " 70  Subflow.Bwd.Packets          int64  \n",
            " 71  Subflow.Bwd.Bytes            int64  \n",
            " 72  Init_Win_bytes_forward       int64  \n",
            " 73  Init_Win_bytes_backward      int64  \n",
            " 74  act_data_pkt_fwd             int64  \n",
            " 75  min_seg_size_forward         int64  \n",
            " 76  Active.Mean                  float64\n",
            " 77  Active.Std                   float64\n",
            " 78  Active.Max                   float64\n",
            " 79  Active.Min                   float64\n",
            " 80  Idle.Mean                    float64\n",
            " 81  Idle.Std                     float64\n",
            " 82  Idle.Max                     float64\n",
            " 83  Idle.Min                     float64\n",
            " 84  Label                        object \n",
            " 85  L7Protocol                   int64  \n",
            " 86  ProtocolName                 object \n",
            "dtypes: float64(36), int64(45), object(6)\n",
            "memory usage: 2.3+ GB\n"
          ]
        }
      ]
    },
    {
      "cell_type": "code",
      "source": [],
      "metadata": {
        "id": "zkvNSLBAsaH2"
      },
      "execution_count": null,
      "outputs": []
    },
    {
      "cell_type": "code",
      "source": [
        "non_num_cols = [col for col in data.columns if data[col].dtype == 'O']\n",
        "non_num_data = data[non_num_cols]\n",
        "non_num_data"
      ],
      "metadata": {
        "colab": {
          "base_uri": "https://localhost:8080/",
          "height": 423
        },
        "id": "TlNJUcakwBtG",
        "outputId": "4c0507a8-22fc-462c-a02f-074696737a1b"
      },
      "execution_count": null,
      "outputs": [
        {
          "output_type": "execute_result",
          "data": {
            "text/plain": [
              "                                       Flow.ID      Source.IP Destination.IP  \\\n",
              "0          172.19.1.46-10.200.7.7-52422-3128-6    172.19.1.46     10.200.7.7   \n",
              "1          172.19.1.46-10.200.7.7-52422-3128-6     10.200.7.7    172.19.1.46   \n",
              "2         10.200.7.217-50.31.185.39-38848-80-6   50.31.185.39   10.200.7.217   \n",
              "3         10.200.7.217-50.31.185.39-38848-80-6   50.31.185.39   10.200.7.217   \n",
              "4        192.168.72.43-10.200.7.7-55961-3128-6  192.168.72.43     10.200.7.7   \n",
              "...                                        ...            ...            ...   \n",
              "3577291  10.200.7.199-98.138.79.73-42135-443-6   98.138.79.73   10.200.7.199   \n",
              "3577292  10.200.7.217-98.138.79.73-51546-443-6   98.138.79.73   10.200.7.217   \n",
              "3577293  10.200.7.218-98.138.79.73-44366-443-6   98.138.79.73   10.200.7.218   \n",
              "3577294  10.200.7.195-98.138.79.73-52341-443-6   98.138.79.73   10.200.7.195   \n",
              "3577295  10.200.7.196-98.138.79.73-34188-443-6   98.138.79.73   10.200.7.196   \n",
              "\n",
              "                  Timestamp   Label ProtocolName  \n",
              "0        26/04/201711:11:17  BENIGN   HTTP_PROXY  \n",
              "1        26/04/201711:11:17  BENIGN   HTTP_PROXY  \n",
              "2        26/04/201711:11:17  BENIGN         HTTP  \n",
              "3        26/04/201711:11:17  BENIGN         HTTP  \n",
              "4        26/04/201711:11:17  BENIGN   HTTP_PROXY  \n",
              "...                     ...     ...          ...  \n",
              "3577291  15/05/201705:43:40  BENIGN          SSL  \n",
              "3577292  15/05/201705:46:10  BENIGN          SSL  \n",
              "3577293  15/05/201705:45:39  BENIGN          SSL  \n",
              "3577294  15/05/201705:45:59  BENIGN          SSL  \n",
              "3577295  15/05/201705:46:05  BENIGN          SSL  \n",
              "\n",
              "[3577296 rows x 6 columns]"
            ],
            "text/html": [
              "\n",
              "  <div id=\"df-e6e07296-3812-48dc-91c9-5370b25762c0\">\n",
              "    <div class=\"colab-df-container\">\n",
              "      <div>\n",
              "<style scoped>\n",
              "    .dataframe tbody tr th:only-of-type {\n",
              "        vertical-align: middle;\n",
              "    }\n",
              "\n",
              "    .dataframe tbody tr th {\n",
              "        vertical-align: top;\n",
              "    }\n",
              "\n",
              "    .dataframe thead th {\n",
              "        text-align: right;\n",
              "    }\n",
              "</style>\n",
              "<table border=\"1\" class=\"dataframe\">\n",
              "  <thead>\n",
              "    <tr style=\"text-align: right;\">\n",
              "      <th></th>\n",
              "      <th>Flow.ID</th>\n",
              "      <th>Source.IP</th>\n",
              "      <th>Destination.IP</th>\n",
              "      <th>Timestamp</th>\n",
              "      <th>Label</th>\n",
              "      <th>ProtocolName</th>\n",
              "    </tr>\n",
              "  </thead>\n",
              "  <tbody>\n",
              "    <tr>\n",
              "      <th>0</th>\n",
              "      <td>172.19.1.46-10.200.7.7-52422-3128-6</td>\n",
              "      <td>172.19.1.46</td>\n",
              "      <td>10.200.7.7</td>\n",
              "      <td>26/04/201711:11:17</td>\n",
              "      <td>BENIGN</td>\n",
              "      <td>HTTP_PROXY</td>\n",
              "    </tr>\n",
              "    <tr>\n",
              "      <th>1</th>\n",
              "      <td>172.19.1.46-10.200.7.7-52422-3128-6</td>\n",
              "      <td>10.200.7.7</td>\n",
              "      <td>172.19.1.46</td>\n",
              "      <td>26/04/201711:11:17</td>\n",
              "      <td>BENIGN</td>\n",
              "      <td>HTTP_PROXY</td>\n",
              "    </tr>\n",
              "    <tr>\n",
              "      <th>2</th>\n",
              "      <td>10.200.7.217-50.31.185.39-38848-80-6</td>\n",
              "      <td>50.31.185.39</td>\n",
              "      <td>10.200.7.217</td>\n",
              "      <td>26/04/201711:11:17</td>\n",
              "      <td>BENIGN</td>\n",
              "      <td>HTTP</td>\n",
              "    </tr>\n",
              "    <tr>\n",
              "      <th>3</th>\n",
              "      <td>10.200.7.217-50.31.185.39-38848-80-6</td>\n",
              "      <td>50.31.185.39</td>\n",
              "      <td>10.200.7.217</td>\n",
              "      <td>26/04/201711:11:17</td>\n",
              "      <td>BENIGN</td>\n",
              "      <td>HTTP</td>\n",
              "    </tr>\n",
              "    <tr>\n",
              "      <th>4</th>\n",
              "      <td>192.168.72.43-10.200.7.7-55961-3128-6</td>\n",
              "      <td>192.168.72.43</td>\n",
              "      <td>10.200.7.7</td>\n",
              "      <td>26/04/201711:11:17</td>\n",
              "      <td>BENIGN</td>\n",
              "      <td>HTTP_PROXY</td>\n",
              "    </tr>\n",
              "    <tr>\n",
              "      <th>...</th>\n",
              "      <td>...</td>\n",
              "      <td>...</td>\n",
              "      <td>...</td>\n",
              "      <td>...</td>\n",
              "      <td>...</td>\n",
              "      <td>...</td>\n",
              "    </tr>\n",
              "    <tr>\n",
              "      <th>3577291</th>\n",
              "      <td>10.200.7.199-98.138.79.73-42135-443-6</td>\n",
              "      <td>98.138.79.73</td>\n",
              "      <td>10.200.7.199</td>\n",
              "      <td>15/05/201705:43:40</td>\n",
              "      <td>BENIGN</td>\n",
              "      <td>SSL</td>\n",
              "    </tr>\n",
              "    <tr>\n",
              "      <th>3577292</th>\n",
              "      <td>10.200.7.217-98.138.79.73-51546-443-6</td>\n",
              "      <td>98.138.79.73</td>\n",
              "      <td>10.200.7.217</td>\n",
              "      <td>15/05/201705:46:10</td>\n",
              "      <td>BENIGN</td>\n",
              "      <td>SSL</td>\n",
              "    </tr>\n",
              "    <tr>\n",
              "      <th>3577293</th>\n",
              "      <td>10.200.7.218-98.138.79.73-44366-443-6</td>\n",
              "      <td>98.138.79.73</td>\n",
              "      <td>10.200.7.218</td>\n",
              "      <td>15/05/201705:45:39</td>\n",
              "      <td>BENIGN</td>\n",
              "      <td>SSL</td>\n",
              "    </tr>\n",
              "    <tr>\n",
              "      <th>3577294</th>\n",
              "      <td>10.200.7.195-98.138.79.73-52341-443-6</td>\n",
              "      <td>98.138.79.73</td>\n",
              "      <td>10.200.7.195</td>\n",
              "      <td>15/05/201705:45:59</td>\n",
              "      <td>BENIGN</td>\n",
              "      <td>SSL</td>\n",
              "    </tr>\n",
              "    <tr>\n",
              "      <th>3577295</th>\n",
              "      <td>10.200.7.196-98.138.79.73-34188-443-6</td>\n",
              "      <td>98.138.79.73</td>\n",
              "      <td>10.200.7.196</td>\n",
              "      <td>15/05/201705:46:05</td>\n",
              "      <td>BENIGN</td>\n",
              "      <td>SSL</td>\n",
              "    </tr>\n",
              "  </tbody>\n",
              "</table>\n",
              "<p>3577296 rows × 6 columns</p>\n",
              "</div>\n",
              "      <button class=\"colab-df-convert\" onclick=\"convertToInteractive('df-e6e07296-3812-48dc-91c9-5370b25762c0')\"\n",
              "              title=\"Convert this dataframe to an interactive table.\"\n",
              "              style=\"display:none;\">\n",
              "        \n",
              "  <svg xmlns=\"http://www.w3.org/2000/svg\" height=\"24px\"viewBox=\"0 0 24 24\"\n",
              "       width=\"24px\">\n",
              "    <path d=\"M0 0h24v24H0V0z\" fill=\"none\"/>\n",
              "    <path d=\"M18.56 5.44l.94 2.06.94-2.06 2.06-.94-2.06-.94-.94-2.06-.94 2.06-2.06.94zm-11 1L8.5 8.5l.94-2.06 2.06-.94-2.06-.94L8.5 2.5l-.94 2.06-2.06.94zm10 10l.94 2.06.94-2.06 2.06-.94-2.06-.94-.94-2.06-.94 2.06-2.06.94z\"/><path d=\"M17.41 7.96l-1.37-1.37c-.4-.4-.92-.59-1.43-.59-.52 0-1.04.2-1.43.59L10.3 9.45l-7.72 7.72c-.78.78-.78 2.05 0 2.83L4 21.41c.39.39.9.59 1.41.59.51 0 1.02-.2 1.41-.59l7.78-7.78 2.81-2.81c.8-.78.8-2.07 0-2.86zM5.41 20L4 18.59l7.72-7.72 1.47 1.35L5.41 20z\"/>\n",
              "  </svg>\n",
              "      </button>\n",
              "      \n",
              "  <style>\n",
              "    .colab-df-container {\n",
              "      display:flex;\n",
              "      flex-wrap:wrap;\n",
              "      gap: 12px;\n",
              "    }\n",
              "\n",
              "    .colab-df-convert {\n",
              "      background-color: #E8F0FE;\n",
              "      border: none;\n",
              "      border-radius: 50%;\n",
              "      cursor: pointer;\n",
              "      display: none;\n",
              "      fill: #1967D2;\n",
              "      height: 32px;\n",
              "      padding: 0 0 0 0;\n",
              "      width: 32px;\n",
              "    }\n",
              "\n",
              "    .colab-df-convert:hover {\n",
              "      background-color: #E2EBFA;\n",
              "      box-shadow: 0px 1px 2px rgba(60, 64, 67, 0.3), 0px 1px 3px 1px rgba(60, 64, 67, 0.15);\n",
              "      fill: #174EA6;\n",
              "    }\n",
              "\n",
              "    [theme=dark] .colab-df-convert {\n",
              "      background-color: #3B4455;\n",
              "      fill: #D2E3FC;\n",
              "    }\n",
              "\n",
              "    [theme=dark] .colab-df-convert:hover {\n",
              "      background-color: #434B5C;\n",
              "      box-shadow: 0px 1px 3px 1px rgba(0, 0, 0, 0.15);\n",
              "      filter: drop-shadow(0px 1px 2px rgba(0, 0, 0, 0.3));\n",
              "      fill: #FFFFFF;\n",
              "    }\n",
              "  </style>\n",
              "\n",
              "      <script>\n",
              "        const buttonEl =\n",
              "          document.querySelector('#df-e6e07296-3812-48dc-91c9-5370b25762c0 button.colab-df-convert');\n",
              "        buttonEl.style.display =\n",
              "          google.colab.kernel.accessAllowed ? 'block' : 'none';\n",
              "\n",
              "        async function convertToInteractive(key) {\n",
              "          const element = document.querySelector('#df-e6e07296-3812-48dc-91c9-5370b25762c0');\n",
              "          const dataTable =\n",
              "            await google.colab.kernel.invokeFunction('convertToInteractive',\n",
              "                                                     [key], {});\n",
              "          if (!dataTable) return;\n",
              "\n",
              "          const docLinkHtml = 'Like what you see? Visit the ' +\n",
              "            '<a target=\"_blank\" href=https://colab.research.google.com/notebooks/data_table.ipynb>data table notebook</a>'\n",
              "            + ' to learn more about interactive tables.';\n",
              "          element.innerHTML = '';\n",
              "          dataTable['output_type'] = 'display_data';\n",
              "          await google.colab.output.renderOutput(dataTable, element);\n",
              "          const docLink = document.createElement('div');\n",
              "          docLink.innerHTML = docLinkHtml;\n",
              "          element.appendChild(docLink);\n",
              "        }\n",
              "      </script>\n",
              "    </div>\n",
              "  </div>\n",
              "  "
            ]
          },
          "metadata": {},
          "execution_count": 8
        }
      ]
    },
    {
      "cell_type": "code",
      "source": [],
      "metadata": {
        "id": "huoqp_uysc5-"
      },
      "execution_count": null,
      "outputs": []
    },
    {
      "cell_type": "code",
      "source": [
        "[(col, non_num_data[col].nunique()) for col in non_num_cols]"
      ],
      "metadata": {
        "colab": {
          "base_uri": "https://localhost:8080/"
        },
        "id": "GMgHMETJwFta",
        "outputId": "9e6f8482-075c-42e4-ce38-07e648c68175"
      },
      "execution_count": null,
      "outputs": [
        {
          "output_type": "execute_result",
          "data": {
            "text/plain": [
              "[('Flow.ID', 1522917),\n",
              " ('Source.IP', 6566),\n",
              " ('Destination.IP', 22824),\n",
              " ('Timestamp', 41915),\n",
              " ('Label', 1),\n",
              " ('ProtocolName', 78)]"
            ]
          },
          "metadata": {},
          "execution_count": 9
        }
      ]
    },
    {
      "cell_type": "code",
      "source": [],
      "metadata": {
        "id": "F1Dghb_zsexh"
      },
      "execution_count": null,
      "outputs": []
    },
    {
      "cell_type": "code",
      "source": [
        "def summarize_cat(col_name):\n",
        "    sorted_values = sorted(non_num_data[col_name].value_counts().iteritems(), key = lambda x:x[1], reverse=True)\n",
        "    remaining_per = 100\n",
        "    for (value, count) in sorted_values:\n",
        "        per = count / len(non_num_data) * 100\n",
        "        if per >= 1:\n",
        "            print(f'{value} : {per:.2f}%')\n",
        "        else :\n",
        "            print(f'Others : {remaining_per:.2f}%')\n",
        "            break\n",
        "        remaining_per = remaining_per - per"
      ],
      "metadata": {
        "id": "zO4Ni2bmwH2y"
      },
      "execution_count": null,
      "outputs": []
    },
    {
      "cell_type": "code",
      "source": [
        "for col in non_num_cols:\n",
        "    print(f\"Summary of {col} column : \")\n",
        "    summarize_cat(col)\n",
        "    print('\\n')"
      ],
      "metadata": {
        "colab": {
          "base_uri": "https://localhost:8080/"
        },
        "id": "Ceh_1UIAwKq6",
        "outputId": "09181e31-86f6-4cd3-ff8b-d2667ccb2f95"
      },
      "execution_count": null,
      "outputs": [
        {
          "output_type": "stream",
          "name": "stdout",
          "text": [
            "Summary of Flow.ID column : \n",
            "Others : 100.00%\n",
            "\n",
            "\n",
            "Summary of Source.IP column : \n",
            "10.200.7.218 : 8.26%\n",
            "10.200.7.217 : 7.49%\n",
            "10.200.7.199 : 6.28%\n",
            "10.200.7.195 : 5.34%\n",
            "10.200.7.194 : 5.08%\n",
            "10.200.7.196 : 4.93%\n",
            "10.200.7.9 : 3.47%\n",
            "10.200.7.6 : 3.00%\n",
            "10.200.7.5 : 2.85%\n",
            "10.200.7.4 : 2.84%\n",
            "10.200.7.8 : 2.58%\n",
            "10.200.7.7 : 2.51%\n",
            "Others : 45.37%\n",
            "\n",
            "\n",
            "Summary of Destination.IP column : \n",
            "10.200.7.8 : 9.03%\n",
            "10.200.7.7 : 8.81%\n",
            "10.200.7.9 : 6.25%\n",
            "10.200.7.5 : 5.46%\n",
            "10.200.7.6 : 5.34%\n",
            "10.200.7.4 : 5.16%\n",
            "10.200.7.218 : 1.08%\n",
            "10.200.7.217 : 1.05%\n",
            "Others : 57.83%\n",
            "\n",
            "\n",
            "Summary of Timestamp column : \n",
            "Others : 100.00%\n",
            "\n",
            "\n",
            "Summary of Label column : \n",
            "BENIGN : 100.00%\n",
            "\n",
            "\n",
            "Summary of ProtocolName column : \n",
            "GOOGLE : 26.81%\n",
            "HTTP : 19.11%\n",
            "HTTP_PROXY : 17.42%\n",
            "SSL : 11.32%\n",
            "HTTP_CONNECT : 8.88%\n",
            "YOUTUBE : 4.77%\n",
            "AMAZON : 2.43%\n",
            "MICROSOFT : 1.53%\n",
            "GMAIL : 1.13%\n",
            "Others : 6.60%\n",
            "\n",
            "\n"
          ]
        }
      ]
    },
    {
      "cell_type": "code",
      "source": [
        "num_cols = list(set(data.columns) - set(non_num_cols))\n",
        "num_cols"
      ],
      "metadata": {
        "colab": {
          "base_uri": "https://localhost:8080/"
        },
        "id": "573SIVMpwMih",
        "outputId": "0e6bd50a-fbfd-4083-961e-4341a20a55a3"
      },
      "execution_count": null,
      "outputs": [
        {
          "output_type": "execute_result",
          "data": {
            "text/plain": [
              "['Fwd.PSH.Flags',\n",
              " 'Flow.IAT.Max',\n",
              " 'Bwd.Avg.Bytes.Bulk',\n",
              " 'Idle.Mean',\n",
              " 'PSH.Flag.Count',\n",
              " 'Packet.Length.Mean',\n",
              " 'Avg.Fwd.Segment.Size',\n",
              " 'Subflow.Bwd.Packets',\n",
              " 'Packet.Length.Std',\n",
              " 'Fwd.Avg.Bytes.Bulk',\n",
              " 'Flow.Packets.s',\n",
              " 'Fwd.IAT.Min',\n",
              " 'Min.Packet.Length',\n",
              " 'Bwd.Packet.Length.Min',\n",
              " 'Active.Std',\n",
              " 'Bwd.Packet.Length.Mean',\n",
              " 'Active.Max',\n",
              " 'Flow.IAT.Min',\n",
              " 'L7Protocol',\n",
              " 'ACK.Flag.Count',\n",
              " 'Total.Length.of.Bwd.Packets',\n",
              " 'Fwd.IAT.Max',\n",
              " 'Fwd.Packets.s',\n",
              " 'Source.Port',\n",
              " 'Subflow.Bwd.Bytes',\n",
              " 'Idle.Min',\n",
              " 'Fwd.Header.Length.1',\n",
              " 'Subflow.Fwd.Packets',\n",
              " 'Down.Up.Ratio',\n",
              " 'Bwd.IAT.Max',\n",
              " 'Flow.IAT.Mean',\n",
              " 'Bwd.IAT.Total',\n",
              " 'Fwd.Packet.Length.Mean',\n",
              " 'min_seg_size_forward',\n",
              " 'ECE.Flag.Count',\n",
              " 'URG.Flag.Count',\n",
              " 'Fwd.URG.Flags',\n",
              " 'Avg.Bwd.Segment.Size',\n",
              " 'RST.Flag.Count',\n",
              " 'Init_Win_bytes_backward',\n",
              " 'Flow.Duration',\n",
              " 'Fwd.Header.Length',\n",
              " 'Active.Min',\n",
              " 'CWE.Flag.Count',\n",
              " 'Fwd.Avg.Bulk.Rate',\n",
              " 'Flow.IAT.Std',\n",
              " 'Init_Win_bytes_forward',\n",
              " 'Fwd.Packet.Length.Min',\n",
              " 'act_data_pkt_fwd',\n",
              " 'FIN.Flag.Count',\n",
              " 'Fwd.IAT.Mean',\n",
              " 'Destination.Port',\n",
              " 'Subflow.Fwd.Bytes',\n",
              " 'Flow.Bytes.s',\n",
              " 'Fwd.IAT.Std',\n",
              " 'Average.Packet.Size',\n",
              " 'Bwd.IAT.Min',\n",
              " 'Total.Length.of.Fwd.Packets',\n",
              " 'Bwd.PSH.Flags',\n",
              " 'Idle.Std',\n",
              " 'Bwd.Avg.Bulk.Rate',\n",
              " 'Bwd.Packet.Length.Max',\n",
              " 'Bwd.URG.Flags',\n",
              " 'Total.Backward.Packets',\n",
              " 'Bwd.Header.Length',\n",
              " 'Packet.Length.Variance',\n",
              " 'Bwd.Packets.s',\n",
              " 'Active.Mean',\n",
              " 'Bwd.IAT.Std',\n",
              " 'Idle.Max',\n",
              " 'Protocol',\n",
              " 'Bwd.Packet.Length.Std',\n",
              " 'Bwd.IAT.Mean',\n",
              " 'Max.Packet.Length',\n",
              " 'Total.Fwd.Packets',\n",
              " 'Fwd.Packet.Length.Max',\n",
              " 'SYN.Flag.Count',\n",
              " 'Fwd.Avg.Packets.Bulk',\n",
              " 'Fwd.Packet.Length.Std',\n",
              " 'Fwd.IAT.Total',\n",
              " 'Bwd.Avg.Packets.Bulk']"
            ]
          },
          "metadata": {},
          "execution_count": 12
        }
      ]
    },
    {
      "cell_type": "code",
      "source": [],
      "metadata": {
        "id": "eMgFo0u7skiQ"
      },
      "execution_count": null,
      "outputs": []
    },
    {
      "cell_type": "code",
      "source": [
        "data[num_cols].describe()"
      ],
      "metadata": {
        "colab": {
          "base_uri": "https://localhost:8080/",
          "height": 393
        },
        "id": "c8zvr0MAwQx1",
        "outputId": "c1da6f2d-b19d-4ed8-bcd2-f0250d11ac5f"
      },
      "execution_count": null,
      "outputs": [
        {
          "output_type": "execute_result",
          "data": {
            "text/plain": [
              "       Fwd.PSH.Flags  Flow.IAT.Max  Bwd.Avg.Bytes.Bulk     Idle.Mean  \\\n",
              "count   3.577296e+06  3.577296e+06           3577296.0  3.577296e+06   \n",
              "mean    1.720414e-01  1.285020e+07                 0.0  8.524211e+06   \n",
              "std     3.774165e-01  2.076518e+07                 0.0  1.706568e+07   \n",
              "min     0.000000e+00  1.000000e+00                 0.0  0.000000e+00   \n",
              "25%     0.000000e+00  5.700000e+02                 0.0  0.000000e+00   \n",
              "50%     0.000000e+00  2.812395e+05                 0.0  0.000000e+00   \n",
              "75%     0.000000e+00  2.391546e+07                 0.0  7.506747e+06   \n",
              "max     1.000000e+00  1.200000e+08                 0.0  1.200000e+08   \n",
              "\n",
              "       PSH.Flag.Count  Packet.Length.Mean  Avg.Fwd.Segment.Size  \\\n",
              "count    3.577296e+06        3.577296e+06          3.577296e+06   \n",
              "mean     4.058210e-01        1.988191e+02          1.149212e+02   \n",
              "std      4.910503e-01        3.327427e+02          2.464707e+02   \n",
              "min      0.000000e+00        0.000000e+00          0.000000e+00   \n",
              "25%      0.000000e+00        6.000000e+00          6.000000e+00   \n",
              "50%      0.000000e+00        6.283333e+01          4.657143e+01   \n",
              "75%      1.000000e+00        2.500000e+02          1.225000e+02   \n",
              "max      1.000000e+00        1.070867e+04          1.606000e+04   \n",
              "\n",
              "       Subflow.Bwd.Packets  Packet.Length.Std  Fwd.Avg.Bytes.Bulk  ...  \\\n",
              "count         3.577296e+06       3.577296e+06           3577296.0  ...   \n",
              "mean          6.534083e+01       3.035190e+02                 0.0  ...   \n",
              "std           1.108092e+03       4.326083e+02                 0.0  ...   \n",
              "min           0.000000e+00       0.000000e+00                 0.0  ...   \n",
              "25%           1.000000e+00       0.000000e+00                 0.0  ...   \n",
              "50%           5.000000e+00       1.069828e+02                 0.0  ...   \n",
              "75%           1.500000e+01       4.818125e+02                 0.0  ...   \n",
              "max           5.421960e+05       9.268781e+03                 0.0  ...   \n",
              "\n",
              "       Bwd.Packet.Length.Std  Bwd.IAT.Mean  Max.Packet.Length  \\\n",
              "count           3.577296e+06  3.577296e+06       3.577296e+06   \n",
              "mean            2.898878e+02  2.476877e+06       1.333250e+03   \n",
              "std             4.853004e+02  7.578111e+06       2.453395e+03   \n",
              "min             0.000000e+00  0.000000e+00       0.000000e+00   \n",
              "25%             0.000000e+00  0.000000e+00       6.000000e+00   \n",
              "50%             3.242474e+01  1.558765e+04       3.550000e+02   \n",
              "75%             4.232105e+02  3.342142e+05       1.460000e+03   \n",
              "max             8.434804e+03  1.199999e+08       3.764800e+04   \n",
              "\n",
              "       Total.Fwd.Packets  Fwd.Packet.Length.Max  SYN.Flag.Count  \\\n",
              "count       3.577296e+06           3.577296e+06    3.577296e+06   \n",
              "mean        6.237799e+01           5.123645e+02    1.720414e-01   \n",
              "std         1.094086e+03           1.039319e+03    3.774165e-01   \n",
              "min         1.000000e+00           0.000000e+00    0.000000e+00   \n",
              "25%         2.000000e+00           6.000000e+00    0.000000e+00   \n",
              "50%         6.000000e+00           2.060000e+02    0.000000e+00   \n",
              "75%         1.500000e+01           6.130000e+02    0.000000e+00   \n",
              "max         4.531900e+05           3.283200e+04    1.000000e+00   \n",
              "\n",
              "       Fwd.Avg.Packets.Bulk  Fwd.Packet.Length.Std  Fwd.IAT.Total  \\\n",
              "count             3577296.0           3.577296e+06   3.577296e+06   \n",
              "mean                    0.0           1.520501e+02   2.418796e+07   \n",
              "std                     0.0           2.404702e+02   3.962563e+07   \n",
              "min                     0.0           0.000000e+00   0.000000e+00   \n",
              "25%                     0.0           0.000000e+00   7.000000e+00   \n",
              "50%                     0.0           7.421124e+01   3.892645e+05   \n",
              "75%                     0.0           2.079035e+02   4.001161e+07   \n",
              "max                     0.0           6.225487e+03   1.200000e+08   \n",
              "\n",
              "       Bwd.Avg.Packets.Bulk  \n",
              "count             3577296.0  \n",
              "mean                    0.0  \n",
              "std                     0.0  \n",
              "min                     0.0  \n",
              "25%                     0.0  \n",
              "50%                     0.0  \n",
              "75%                     0.0  \n",
              "max                     0.0  \n",
              "\n",
              "[8 rows x 81 columns]"
            ],
            "text/html": [
              "\n",
              "  <div id=\"df-d3862b00-979d-41f1-8734-c37f264bfbf5\">\n",
              "    <div class=\"colab-df-container\">\n",
              "      <div>\n",
              "<style scoped>\n",
              "    .dataframe tbody tr th:only-of-type {\n",
              "        vertical-align: middle;\n",
              "    }\n",
              "\n",
              "    .dataframe tbody tr th {\n",
              "        vertical-align: top;\n",
              "    }\n",
              "\n",
              "    .dataframe thead th {\n",
              "        text-align: right;\n",
              "    }\n",
              "</style>\n",
              "<table border=\"1\" class=\"dataframe\">\n",
              "  <thead>\n",
              "    <tr style=\"text-align: right;\">\n",
              "      <th></th>\n",
              "      <th>Fwd.PSH.Flags</th>\n",
              "      <th>Flow.IAT.Max</th>\n",
              "      <th>Bwd.Avg.Bytes.Bulk</th>\n",
              "      <th>Idle.Mean</th>\n",
              "      <th>PSH.Flag.Count</th>\n",
              "      <th>Packet.Length.Mean</th>\n",
              "      <th>Avg.Fwd.Segment.Size</th>\n",
              "      <th>Subflow.Bwd.Packets</th>\n",
              "      <th>Packet.Length.Std</th>\n",
              "      <th>Fwd.Avg.Bytes.Bulk</th>\n",
              "      <th>...</th>\n",
              "      <th>Bwd.Packet.Length.Std</th>\n",
              "      <th>Bwd.IAT.Mean</th>\n",
              "      <th>Max.Packet.Length</th>\n",
              "      <th>Total.Fwd.Packets</th>\n",
              "      <th>Fwd.Packet.Length.Max</th>\n",
              "      <th>SYN.Flag.Count</th>\n",
              "      <th>Fwd.Avg.Packets.Bulk</th>\n",
              "      <th>Fwd.Packet.Length.Std</th>\n",
              "      <th>Fwd.IAT.Total</th>\n",
              "      <th>Bwd.Avg.Packets.Bulk</th>\n",
              "    </tr>\n",
              "  </thead>\n",
              "  <tbody>\n",
              "    <tr>\n",
              "      <th>count</th>\n",
              "      <td>3.577296e+06</td>\n",
              "      <td>3.577296e+06</td>\n",
              "      <td>3577296.0</td>\n",
              "      <td>3.577296e+06</td>\n",
              "      <td>3.577296e+06</td>\n",
              "      <td>3.577296e+06</td>\n",
              "      <td>3.577296e+06</td>\n",
              "      <td>3.577296e+06</td>\n",
              "      <td>3.577296e+06</td>\n",
              "      <td>3577296.0</td>\n",
              "      <td>...</td>\n",
              "      <td>3.577296e+06</td>\n",
              "      <td>3.577296e+06</td>\n",
              "      <td>3.577296e+06</td>\n",
              "      <td>3.577296e+06</td>\n",
              "      <td>3.577296e+06</td>\n",
              "      <td>3.577296e+06</td>\n",
              "      <td>3577296.0</td>\n",
              "      <td>3.577296e+06</td>\n",
              "      <td>3.577296e+06</td>\n",
              "      <td>3577296.0</td>\n",
              "    </tr>\n",
              "    <tr>\n",
              "      <th>mean</th>\n",
              "      <td>1.720414e-01</td>\n",
              "      <td>1.285020e+07</td>\n",
              "      <td>0.0</td>\n",
              "      <td>8.524211e+06</td>\n",
              "      <td>4.058210e-01</td>\n",
              "      <td>1.988191e+02</td>\n",
              "      <td>1.149212e+02</td>\n",
              "      <td>6.534083e+01</td>\n",
              "      <td>3.035190e+02</td>\n",
              "      <td>0.0</td>\n",
              "      <td>...</td>\n",
              "      <td>2.898878e+02</td>\n",
              "      <td>2.476877e+06</td>\n",
              "      <td>1.333250e+03</td>\n",
              "      <td>6.237799e+01</td>\n",
              "      <td>5.123645e+02</td>\n",
              "      <td>1.720414e-01</td>\n",
              "      <td>0.0</td>\n",
              "      <td>1.520501e+02</td>\n",
              "      <td>2.418796e+07</td>\n",
              "      <td>0.0</td>\n",
              "    </tr>\n",
              "    <tr>\n",
              "      <th>std</th>\n",
              "      <td>3.774165e-01</td>\n",
              "      <td>2.076518e+07</td>\n",
              "      <td>0.0</td>\n",
              "      <td>1.706568e+07</td>\n",
              "      <td>4.910503e-01</td>\n",
              "      <td>3.327427e+02</td>\n",
              "      <td>2.464707e+02</td>\n",
              "      <td>1.108092e+03</td>\n",
              "      <td>4.326083e+02</td>\n",
              "      <td>0.0</td>\n",
              "      <td>...</td>\n",
              "      <td>4.853004e+02</td>\n",
              "      <td>7.578111e+06</td>\n",
              "      <td>2.453395e+03</td>\n",
              "      <td>1.094086e+03</td>\n",
              "      <td>1.039319e+03</td>\n",
              "      <td>3.774165e-01</td>\n",
              "      <td>0.0</td>\n",
              "      <td>2.404702e+02</td>\n",
              "      <td>3.962563e+07</td>\n",
              "      <td>0.0</td>\n",
              "    </tr>\n",
              "    <tr>\n",
              "      <th>min</th>\n",
              "      <td>0.000000e+00</td>\n",
              "      <td>1.000000e+00</td>\n",
              "      <td>0.0</td>\n",
              "      <td>0.000000e+00</td>\n",
              "      <td>0.000000e+00</td>\n",
              "      <td>0.000000e+00</td>\n",
              "      <td>0.000000e+00</td>\n",
              "      <td>0.000000e+00</td>\n",
              "      <td>0.000000e+00</td>\n",
              "      <td>0.0</td>\n",
              "      <td>...</td>\n",
              "      <td>0.000000e+00</td>\n",
              "      <td>0.000000e+00</td>\n",
              "      <td>0.000000e+00</td>\n",
              "      <td>1.000000e+00</td>\n",
              "      <td>0.000000e+00</td>\n",
              "      <td>0.000000e+00</td>\n",
              "      <td>0.0</td>\n",
              "      <td>0.000000e+00</td>\n",
              "      <td>0.000000e+00</td>\n",
              "      <td>0.0</td>\n",
              "    </tr>\n",
              "    <tr>\n",
              "      <th>25%</th>\n",
              "      <td>0.000000e+00</td>\n",
              "      <td>5.700000e+02</td>\n",
              "      <td>0.0</td>\n",
              "      <td>0.000000e+00</td>\n",
              "      <td>0.000000e+00</td>\n",
              "      <td>6.000000e+00</td>\n",
              "      <td>6.000000e+00</td>\n",
              "      <td>1.000000e+00</td>\n",
              "      <td>0.000000e+00</td>\n",
              "      <td>0.0</td>\n",
              "      <td>...</td>\n",
              "      <td>0.000000e+00</td>\n",
              "      <td>0.000000e+00</td>\n",
              "      <td>6.000000e+00</td>\n",
              "      <td>2.000000e+00</td>\n",
              "      <td>6.000000e+00</td>\n",
              "      <td>0.000000e+00</td>\n",
              "      <td>0.0</td>\n",
              "      <td>0.000000e+00</td>\n",
              "      <td>7.000000e+00</td>\n",
              "      <td>0.0</td>\n",
              "    </tr>\n",
              "    <tr>\n",
              "      <th>50%</th>\n",
              "      <td>0.000000e+00</td>\n",
              "      <td>2.812395e+05</td>\n",
              "      <td>0.0</td>\n",
              "      <td>0.000000e+00</td>\n",
              "      <td>0.000000e+00</td>\n",
              "      <td>6.283333e+01</td>\n",
              "      <td>4.657143e+01</td>\n",
              "      <td>5.000000e+00</td>\n",
              "      <td>1.069828e+02</td>\n",
              "      <td>0.0</td>\n",
              "      <td>...</td>\n",
              "      <td>3.242474e+01</td>\n",
              "      <td>1.558765e+04</td>\n",
              "      <td>3.550000e+02</td>\n",
              "      <td>6.000000e+00</td>\n",
              "      <td>2.060000e+02</td>\n",
              "      <td>0.000000e+00</td>\n",
              "      <td>0.0</td>\n",
              "      <td>7.421124e+01</td>\n",
              "      <td>3.892645e+05</td>\n",
              "      <td>0.0</td>\n",
              "    </tr>\n",
              "    <tr>\n",
              "      <th>75%</th>\n",
              "      <td>0.000000e+00</td>\n",
              "      <td>2.391546e+07</td>\n",
              "      <td>0.0</td>\n",
              "      <td>7.506747e+06</td>\n",
              "      <td>1.000000e+00</td>\n",
              "      <td>2.500000e+02</td>\n",
              "      <td>1.225000e+02</td>\n",
              "      <td>1.500000e+01</td>\n",
              "      <td>4.818125e+02</td>\n",
              "      <td>0.0</td>\n",
              "      <td>...</td>\n",
              "      <td>4.232105e+02</td>\n",
              "      <td>3.342142e+05</td>\n",
              "      <td>1.460000e+03</td>\n",
              "      <td>1.500000e+01</td>\n",
              "      <td>6.130000e+02</td>\n",
              "      <td>0.000000e+00</td>\n",
              "      <td>0.0</td>\n",
              "      <td>2.079035e+02</td>\n",
              "      <td>4.001161e+07</td>\n",
              "      <td>0.0</td>\n",
              "    </tr>\n",
              "    <tr>\n",
              "      <th>max</th>\n",
              "      <td>1.000000e+00</td>\n",
              "      <td>1.200000e+08</td>\n",
              "      <td>0.0</td>\n",
              "      <td>1.200000e+08</td>\n",
              "      <td>1.000000e+00</td>\n",
              "      <td>1.070867e+04</td>\n",
              "      <td>1.606000e+04</td>\n",
              "      <td>5.421960e+05</td>\n",
              "      <td>9.268781e+03</td>\n",
              "      <td>0.0</td>\n",
              "      <td>...</td>\n",
              "      <td>8.434804e+03</td>\n",
              "      <td>1.199999e+08</td>\n",
              "      <td>3.764800e+04</td>\n",
              "      <td>4.531900e+05</td>\n",
              "      <td>3.283200e+04</td>\n",
              "      <td>1.000000e+00</td>\n",
              "      <td>0.0</td>\n",
              "      <td>6.225487e+03</td>\n",
              "      <td>1.200000e+08</td>\n",
              "      <td>0.0</td>\n",
              "    </tr>\n",
              "  </tbody>\n",
              "</table>\n",
              "<p>8 rows × 81 columns</p>\n",
              "</div>\n",
              "      <button class=\"colab-df-convert\" onclick=\"convertToInteractive('df-d3862b00-979d-41f1-8734-c37f264bfbf5')\"\n",
              "              title=\"Convert this dataframe to an interactive table.\"\n",
              "              style=\"display:none;\">\n",
              "        \n",
              "  <svg xmlns=\"http://www.w3.org/2000/svg\" height=\"24px\"viewBox=\"0 0 24 24\"\n",
              "       width=\"24px\">\n",
              "    <path d=\"M0 0h24v24H0V0z\" fill=\"none\"/>\n",
              "    <path d=\"M18.56 5.44l.94 2.06.94-2.06 2.06-.94-2.06-.94-.94-2.06-.94 2.06-2.06.94zm-11 1L8.5 8.5l.94-2.06 2.06-.94-2.06-.94L8.5 2.5l-.94 2.06-2.06.94zm10 10l.94 2.06.94-2.06 2.06-.94-2.06-.94-.94-2.06-.94 2.06-2.06.94z\"/><path d=\"M17.41 7.96l-1.37-1.37c-.4-.4-.92-.59-1.43-.59-.52 0-1.04.2-1.43.59L10.3 9.45l-7.72 7.72c-.78.78-.78 2.05 0 2.83L4 21.41c.39.39.9.59 1.41.59.51 0 1.02-.2 1.41-.59l7.78-7.78 2.81-2.81c.8-.78.8-2.07 0-2.86zM5.41 20L4 18.59l7.72-7.72 1.47 1.35L5.41 20z\"/>\n",
              "  </svg>\n",
              "      </button>\n",
              "      \n",
              "  <style>\n",
              "    .colab-df-container {\n",
              "      display:flex;\n",
              "      flex-wrap:wrap;\n",
              "      gap: 12px;\n",
              "    }\n",
              "\n",
              "    .colab-df-convert {\n",
              "      background-color: #E8F0FE;\n",
              "      border: none;\n",
              "      border-radius: 50%;\n",
              "      cursor: pointer;\n",
              "      display: none;\n",
              "      fill: #1967D2;\n",
              "      height: 32px;\n",
              "      padding: 0 0 0 0;\n",
              "      width: 32px;\n",
              "    }\n",
              "\n",
              "    .colab-df-convert:hover {\n",
              "      background-color: #E2EBFA;\n",
              "      box-shadow: 0px 1px 2px rgba(60, 64, 67, 0.3), 0px 1px 3px 1px rgba(60, 64, 67, 0.15);\n",
              "      fill: #174EA6;\n",
              "    }\n",
              "\n",
              "    [theme=dark] .colab-df-convert {\n",
              "      background-color: #3B4455;\n",
              "      fill: #D2E3FC;\n",
              "    }\n",
              "\n",
              "    [theme=dark] .colab-df-convert:hover {\n",
              "      background-color: #434B5C;\n",
              "      box-shadow: 0px 1px 3px 1px rgba(0, 0, 0, 0.15);\n",
              "      filter: drop-shadow(0px 1px 2px rgba(0, 0, 0, 0.3));\n",
              "      fill: #FFFFFF;\n",
              "    }\n",
              "  </style>\n",
              "\n",
              "      <script>\n",
              "        const buttonEl =\n",
              "          document.querySelector('#df-d3862b00-979d-41f1-8734-c37f264bfbf5 button.colab-df-convert');\n",
              "        buttonEl.style.display =\n",
              "          google.colab.kernel.accessAllowed ? 'block' : 'none';\n",
              "\n",
              "        async function convertToInteractive(key) {\n",
              "          const element = document.querySelector('#df-d3862b00-979d-41f1-8734-c37f264bfbf5');\n",
              "          const dataTable =\n",
              "            await google.colab.kernel.invokeFunction('convertToInteractive',\n",
              "                                                     [key], {});\n",
              "          if (!dataTable) return;\n",
              "\n",
              "          const docLinkHtml = 'Like what you see? Visit the ' +\n",
              "            '<a target=\"_blank\" href=https://colab.research.google.com/notebooks/data_table.ipynb>data table notebook</a>'\n",
              "            + ' to learn more about interactive tables.';\n",
              "          element.innerHTML = '';\n",
              "          dataTable['output_type'] = 'display_data';\n",
              "          await google.colab.output.renderOutput(dataTable, element);\n",
              "          const docLink = document.createElement('div');\n",
              "          docLink.innerHTML = docLinkHtml;\n",
              "          element.appendChild(docLink);\n",
              "        }\n",
              "      </script>\n",
              "    </div>\n",
              "  </div>\n",
              "  "
            ]
          },
          "metadata": {},
          "execution_count": 13
        }
      ]
    },
    {
      "cell_type": "code",
      "source": [],
      "metadata": {
        "id": "ll3r1V8VsmmT"
      },
      "execution_count": null,
      "outputs": []
    },
    {
      "cell_type": "code",
      "source": [
        "[col for col in num_cols if data[col].isnull().any()]"
      ],
      "metadata": {
        "colab": {
          "base_uri": "https://localhost:8080/"
        },
        "id": "bN18vWIBwTcH",
        "outputId": "238bed16-d6d1-4713-ac62-a0b9e774ae0b"
      },
      "execution_count": null,
      "outputs": [
        {
          "output_type": "execute_result",
          "data": {
            "text/plain": [
              "[]"
            ]
          },
          "metadata": {},
          "execution_count": 14
        }
      ]
    },
    {
      "cell_type": "code",
      "source": [],
      "metadata": {
        "id": "NqZeHbWts8oM"
      },
      "execution_count": null,
      "outputs": []
    },
    {
      "cell_type": "code",
      "source": [
        "print(\"range and no. of unique values in numeric columns\")\n",
        "for col in num_cols:\n",
        "    print(f'{col}\\tRange : {max(data[col]) - min(data[col])}, No. of unique values : {data[col].nunique()}')"
      ],
      "metadata": {
        "colab": {
          "base_uri": "https://localhost:8080/"
        },
        "id": "SH0UYqF_wYTH",
        "outputId": "9dca0783-0918-48ba-df20-585f3b4b69c9"
      },
      "execution_count": null,
      "outputs": [
        {
          "output_type": "stream",
          "name": "stdout",
          "text": [
            "range and no. of unique values in numeric columns\n",
            "Fwd.PSH.Flags\tRange : 1, No. of unique values : 2\n",
            "Flow.IAT.Max\tRange : 119999997.0, No. of unique values : 1724972\n",
            "Bwd.Avg.Bytes.Bulk\tRange : 0, No. of unique values : 1\n",
            "Idle.Mean\tRange : 119999998.0, No. of unique values : 825302\n",
            "PSH.Flag.Count\tRange : 1, No. of unique values : 2\n",
            "Packet.Length.Mean\tRange : 10708.6666666667, No. of unique values : 810255\n",
            "Avg.Fwd.Segment.Size\tRange : 16060.0, No. of unique values : 422626\n",
            "Subflow.Bwd.Packets\tRange : 542196, No. of unique values : 8905\n",
            "Packet.Length.Std\tRange : 9268.7812215703, No. of unique values : 1674168\n",
            "Fwd.Avg.Bytes.Bulk\tRange : 0, No. of unique values : 1\n",
            "Flow.Packets.s\tRange : 5999999.983333333, No. of unique values : 2352220\n",
            "Fwd.IAT.Min\tRange : 119999998.0, No. of unique values : 175655\n",
            "Min.Packet.Length\tRange : 7063, No. of unique values : 1096\n",
            "Bwd.Packet.Length.Min\tRange : 13032, No. of unique values : 1491\n",
            "Active.Std\tRange : 72971364.9661456, No. of unique values : 518682\n",
            "Bwd.Packet.Length.Mean\tRange : 13032.0, No. of unique values : 561062\n",
            "Active.Max\tRange : 114695014.0, No. of unique values : 589454\n",
            "Flow.IAT.Min\tRange : 119999998, No. of unique values : 104891\n",
            "L7Protocol\tRange : 221, No. of unique values : 78\n",
            "ACK.Flag.Count\tRange : 1, No. of unique values : 2\n",
            "Total.Length.of.Bwd.Packets\tRange : 1345795830.0, No. of unique values : 223090\n",
            "Fwd.IAT.Max\tRange : 119999998.0, No. of unique values : 1642105\n",
            "Fwd.Packets.s\tRange : 5999999.9916666625, No. of unique values : 2293417\n",
            "Source.Port\tRange : 65534, No. of unique values : 40519\n",
            "Subflow.Bwd.Bytes\tRange : 1345795830, No. of unique values : 223090\n",
            "Idle.Min\tRange : 119999998.0, No. of unique values : 783592\n",
            "Fwd.Header.Length.1\tRange : 15439500, No. of unique values : 21914\n",
            "Subflow.Fwd.Packets\tRange : 453189, No. of unique values : 8530\n",
            "Down.Up.Ratio\tRange : 293, No. of unique values : 48\n",
            "Bwd.IAT.Max\tRange : 119999927.0, No. of unique values : 1298206\n",
            "Flow.IAT.Mean\tRange : 119999997.8, No. of unique values : 2329076\n",
            "Bwd.IAT.Total\tRange : 120000000.0, No. of unique values : 1657080\n",
            "Fwd.Packet.Length.Mean\tRange : 16060.0, No. of unique values : 422885\n",
            "min_seg_size_forward\tRange : 524, No. of unique values : 9\n",
            "ECE.Flag.Count\tRange : 1, No. of unique values : 2\n",
            "URG.Flag.Count\tRange : 1, No. of unique values : 2\n",
            "Fwd.URG.Flags\tRange : 0, No. of unique values : 1\n",
            "Avg.Bwd.Segment.Size\tRange : 13032.0, No. of unique values : 560889\n",
            "RST.Flag.Count\tRange : 1, No. of unique values : 2\n",
            "Init_Win_bytes_backward\tRange : 65536, No. of unique values : 20670\n",
            "Flow.Duration\tRange : 119999999, No. of unique values : 2044412\n",
            "Fwd.Header.Length\tRange : 15439500, No. of unique values : 21914\n",
            "Active.Min\tRange : 114695014.0, No. of unique values : 340623\n",
            "CWE.Flag.Count\tRange : 0, No. of unique values : 1\n",
            "Fwd.Avg.Bulk.Rate\tRange : 0, No. of unique values : 1\n",
            "Flow.IAT.Std\tRange : 84852728.889572, No. of unique values : 2450818\n",
            "Init_Win_bytes_forward\tRange : 65536, No. of unique values : 20139\n",
            "Fwd.Packet.Length.Min\tRange : 16060, No. of unique values : 1761\n",
            "act_data_pkt_fwd\tRange : 328694, No. of unique values : 7609\n",
            "FIN.Flag.Count\tRange : 1, No. of unique values : 2\n",
            "Fwd.IAT.Mean\tRange : 119999998.0, No. of unique values : 2091594\n",
            "Destination.Port\tRange : 65534, No. of unique values : 34811\n",
            "Subflow.Fwd.Bytes\tRange : 678023588, No. of unique values : 104568\n",
            "Flow.Bytes.s\tRange : 14396000000.0, No. of unique values : 2386542\n",
            "Fwd.IAT.Std\tRange : 84852564.8407987, No. of unique values : 2167212\n",
            "Average.Packet.Size\tRange : 16063.0, No. of unique values : 805227\n",
            "Bwd.IAT.Min\tRange : 119999927.0, No. of unique values : 149050\n",
            "Total.Length.of.Fwd.Packets\tRange : 678023588, No. of unique values : 104568\n",
            "Bwd.PSH.Flags\tRange : 0, No. of unique values : 1\n",
            "Idle.Std\tRange : 77387456.1182628, No. of unique values : 570416\n",
            "Bwd.Avg.Bulk.Rate\tRange : 0, No. of unique values : 1\n",
            "Bwd.Packet.Length.Max\tRange : 37648, No. of unique values : 12167\n",
            "Bwd.URG.Flags\tRange : 0, No. of unique values : 1\n",
            "Total.Backward.Packets\tRange : 542196, No. of unique values : 8905\n",
            "Bwd.Header.Length\tRange : 12844400, No. of unique values : 22977\n",
            "Packet.Length.Variance\tRange : 85910305.3333333, No. of unique values : 1669723\n",
            "Bwd.Packets.s\tRange : 5000000.0, No. of unique values : 2190615\n",
            "Active.Mean\tRange : 114695014.0, No. of unique values : 653020\n",
            "Bwd.IAT.Std\tRange : 84852748.6885618, No. of unique values : 2107991\n",
            "Idle.Max\tRange : 119999998.0, No. of unique values : 702678\n",
            "Protocol\tRange : 17, No. of unique values : 3\n",
            "Bwd.Packet.Length.Std\tRange : 8434.8040331073, No. of unique values : 1224601\n",
            "Bwd.IAT.Mean\tRange : 119999927.0, No. of unique values : 1986588\n",
            "Max.Packet.Length\tRange : 37648, No. of unique values : 12451\n",
            "Total.Fwd.Packets\tRange : 453189, No. of unique values : 8530\n",
            "Fwd.Packet.Length.Max\tRange : 32832, No. of unique values : 7737\n",
            "SYN.Flag.Count\tRange : 1, No. of unique values : 2\n",
            "Fwd.Avg.Packets.Bulk\tRange : 0, No. of unique values : 1\n",
            "Fwd.Packet.Length.Std\tRange : 6225.4871946384, No. of unique values : 1220764\n",
            "Fwd.IAT.Total\tRange : 120000000.0, No. of unique values : 1896396\n",
            "Bwd.Avg.Packets.Bulk\tRange : 0, No. of unique values : 1\n"
          ]
        }
      ]
    },
    {
      "cell_type": "code",
      "source": [],
      "metadata": {
        "id": "-94grcPts9f8"
      },
      "execution_count": null,
      "outputs": []
    },
    {
      "cell_type": "code",
      "source": [
        "cols_for_desc = [col for col in num_cols if data[col].nunique() > 50]\n",
        "cols_for_desc"
      ],
      "metadata": {
        "colab": {
          "base_uri": "https://localhost:8080/"
        },
        "id": "y-RKwjrfwaDR",
        "outputId": "606a3656-6321-46b6-92f2-77784141e689"
      },
      "execution_count": null,
      "outputs": [
        {
          "output_type": "execute_result",
          "data": {
            "text/plain": [
              "['Flow.IAT.Max',\n",
              " 'Idle.Mean',\n",
              " 'Packet.Length.Mean',\n",
              " 'Avg.Fwd.Segment.Size',\n",
              " 'Subflow.Bwd.Packets',\n",
              " 'Packet.Length.Std',\n",
              " 'Flow.Packets.s',\n",
              " 'Fwd.IAT.Min',\n",
              " 'Min.Packet.Length',\n",
              " 'Bwd.Packet.Length.Min',\n",
              " 'Active.Std',\n",
              " 'Bwd.Packet.Length.Mean',\n",
              " 'Active.Max',\n",
              " 'Flow.IAT.Min',\n",
              " 'L7Protocol',\n",
              " 'Total.Length.of.Bwd.Packets',\n",
              " 'Fwd.IAT.Max',\n",
              " 'Fwd.Packets.s',\n",
              " 'Source.Port',\n",
              " 'Subflow.Bwd.Bytes',\n",
              " 'Idle.Min',\n",
              " 'Fwd.Header.Length.1',\n",
              " 'Subflow.Fwd.Packets',\n",
              " 'Bwd.IAT.Max',\n",
              " 'Flow.IAT.Mean',\n",
              " 'Bwd.IAT.Total',\n",
              " 'Fwd.Packet.Length.Mean',\n",
              " 'Avg.Bwd.Segment.Size',\n",
              " 'Init_Win_bytes_backward',\n",
              " 'Flow.Duration',\n",
              " 'Fwd.Header.Length',\n",
              " 'Active.Min',\n",
              " 'Flow.IAT.Std',\n",
              " 'Init_Win_bytes_forward',\n",
              " 'Fwd.Packet.Length.Min',\n",
              " 'act_data_pkt_fwd',\n",
              " 'Fwd.IAT.Mean',\n",
              " 'Destination.Port',\n",
              " 'Subflow.Fwd.Bytes',\n",
              " 'Flow.Bytes.s',\n",
              " 'Fwd.IAT.Std',\n",
              " 'Average.Packet.Size',\n",
              " 'Bwd.IAT.Min',\n",
              " 'Total.Length.of.Fwd.Packets',\n",
              " 'Idle.Std',\n",
              " 'Bwd.Packet.Length.Max',\n",
              " 'Total.Backward.Packets',\n",
              " 'Bwd.Header.Length',\n",
              " 'Packet.Length.Variance',\n",
              " 'Bwd.Packets.s',\n",
              " 'Active.Mean',\n",
              " 'Bwd.IAT.Std',\n",
              " 'Idle.Max',\n",
              " 'Bwd.Packet.Length.Std',\n",
              " 'Bwd.IAT.Mean',\n",
              " 'Max.Packet.Length',\n",
              " 'Total.Fwd.Packets',\n",
              " 'Fwd.Packet.Length.Max',\n",
              " 'Fwd.Packet.Length.Std',\n",
              " 'Fwd.IAT.Total']"
            ]
          },
          "metadata": {},
          "execution_count": 16
        }
      ]
    },
    {
      "cell_type": "code",
      "source": [],
      "metadata": {
        "id": "zHHVY2untmTh"
      },
      "execution_count": null,
      "outputs": []
    },
    {
      "cell_type": "code",
      "source": [
        "corr = data[num_cols].corr()"
      ],
      "metadata": {
        "id": "7l0BGagCxMFc"
      },
      "execution_count": null,
      "outputs": []
    },
    {
      "cell_type": "code",
      "source": [
        " f = plt.figure(figsize = (25,25))\n",
        "plt.matshow(corr, fignum=f.number)\n",
        "plt.title('Correlation Matrix of Numeric columns in the dataset', fontsize = 20)\n",
        "plt.xticks(range(len(num_cols)), num_cols, fontsize = 14, rotation = 90)\n",
        "plt.yticks(range(len(num_cols)), num_cols, fontsize = 14)\n",
        "plt.gca().xaxis.set_ticks_position('bottom')\n",
        "cb = plt.colorbar(fraction = 0.0466, pad = 0.02)\n",
        "cb.ax.tick_params(labelsize=10)\n",
        "plt.show()"
      ],
      "metadata": {
        "colab": {
          "base_uri": "https://localhost:8080/",
          "height": 1000
        },
        "id": "JolAC5uVxQkR",
        "outputId": "ebd05acd-de46-47c9-d45c-b85bc88bdf30"
      },
      "execution_count": null,
      "outputs": [
        {
          "output_type": "display_data",
          "data": {
            "text/plain": [
              "<Figure size 1800x1800 with 2 Axes>"
            ],
            "image/png": "[encoded data removed]"
          },
          "metadata": {
            "needs_background": "light"
          }
        }
      ]
    },
    {
      "cell_type": "code",
      "source": [
        "ipdata = data.copy()"
      ],
      "metadata": {
        "id": "U2SZ7-rTxmca"
      },
      "execution_count": null,
      "outputs": []
    },
    {
      "cell_type": "code",
      "source": [
        "print(\"No. of unique values in Timestamp column :\",ipdata['Timestamp'].nunique())\n",
        "print(\"No. of unique values in FlowID column :\",ipdata['Flow.ID'].nunique())"
      ],
      "metadata": {
        "colab": {
          "base_uri": "https://localhost:8080/"
        },
        "id": "I2zkP1p_xpvH",
        "outputId": "996adb6c-8b37-497c-ef23-c1fc536cdb4b"
      },
      "execution_count": null,
      "outputs": [
        {
          "output_type": "stream",
          "name": "stdout",
          "text": [
            "No. of unique values in Timestamp column : 41915\n",
            "No. of unique values in FlowID column : 1522917\n"
          ]
        }
      ]
    },
    {
      "cell_type": "code",
      "source": [
        "ipdata.drop(['Timestamp', 'Flow.ID'], axis = 1, inplace = True)"
      ],
      "metadata": {
        "id": "bf0pMaefxsRa"
      },
      "execution_count": null,
      "outputs": []
    },
    {
      "cell_type": "code",
      "source": [
        "single_unique_cols = [col for col in ipdata.columns if ipdata[col].nunique() == 1]\n",
        "single_unique_cols\n"
      ],
      "metadata": {
        "colab": {
          "base_uri": "https://localhost:8080/"
        },
        "id": "aeNRiXzPxvvp",
        "outputId": "8629a1d4-78f3-4fec-ab39-b8d39e95637e"
      },
      "execution_count": null,
      "outputs": [
        {
          "output_type": "execute_result",
          "data": {
            "text/plain": [
              "['Bwd.PSH.Flags',\n",
              " 'Fwd.URG.Flags',\n",
              " 'Bwd.URG.Flags',\n",
              " 'CWE.Flag.Count',\n",
              " 'Fwd.Avg.Bytes.Bulk',\n",
              " 'Fwd.Avg.Packets.Bulk',\n",
              " 'Fwd.Avg.Bulk.Rate',\n",
              " 'Bwd.Avg.Bytes.Bulk',\n",
              " 'Bwd.Avg.Packets.Bulk',\n",
              " 'Bwd.Avg.Bulk.Rate',\n",
              " 'Label']"
            ]
          },
          "metadata": {},
          "execution_count": 22
        }
      ]
    },
    {
      "cell_type": "code",
      "source": [
        "ipdata.drop(single_unique_cols, axis = 1, inplace = True)"
      ],
      "metadata": {
        "id": "cmDyqCuuxzlq"
      },
      "execution_count": null,
      "outputs": []
    },
    {
      "cell_type": "code",
      "source": [
        "ip_add_cols = ['Source.IP', 'Source.Port', 'Destination.IP', 'Destination.Port']\n",
        "ipdata[ip_add_cols]"
      ],
      "metadata": {
        "colab": {
          "base_uri": "https://localhost:8080/",
          "height": 423
        },
        "id": "pyRpF190x57Q",
        "outputId": "e181f9af-7f15-47e7-8893-aa1ddeb97618"
      },
      "execution_count": null,
      "outputs": [
        {
          "output_type": "execute_result",
          "data": {
            "text/plain": [
              "             Source.IP  Source.Port Destination.IP  Destination.Port\n",
              "0          172.19.1.46        52422     10.200.7.7              3128\n",
              "1           10.200.7.7         3128    172.19.1.46             52422\n",
              "2         50.31.185.39           80   10.200.7.217             38848\n",
              "3         50.31.185.39           80   10.200.7.217             38848\n",
              "4        192.168.72.43        55961     10.200.7.7              3128\n",
              "...                ...          ...            ...               ...\n",
              "3577291   98.138.79.73          443   10.200.7.199             42135\n",
              "3577292   98.138.79.73          443   10.200.7.217             51546\n",
              "3577293   98.138.79.73          443   10.200.7.218             44366\n",
              "3577294   98.138.79.73          443   10.200.7.195             52341\n",
              "3577295   98.138.79.73          443   10.200.7.196             34188\n",
              "\n",
              "[3577296 rows x 4 columns]"
            ],
            "text/html": [
              "\n",
              "  <div id=\"df-b983f39d-0b5f-4381-acac-8886185c737c\">\n",
              "    <div class=\"colab-df-container\">\n",
              "      <div>\n",
              "<style scoped>\n",
              "    .dataframe tbody tr th:only-of-type {\n",
              "        vertical-align: middle;\n",
              "    }\n",
              "\n",
              "    .dataframe tbody tr th {\n",
              "        vertical-align: top;\n",
              "    }\n",
              "\n",
              "    .dataframe thead th {\n",
              "        text-align: right;\n",
              "    }\n",
              "</style>\n",
              "<table border=\"1\" class=\"dataframe\">\n",
              "  <thead>\n",
              "    <tr style=\"text-align: right;\">\n",
              "      <th></th>\n",
              "      <th>Source.IP</th>\n",
              "      <th>Source.Port</th>\n",
              "      <th>Destination.IP</th>\n",
              "      <th>Destination.Port</th>\n",
              "    </tr>\n",
              "  </thead>\n",
              "  <tbody>\n",
              "    <tr>\n",
              "      <th>0</th>\n",
              "      <td>172.19.1.46</td>\n",
              "      <td>52422</td>\n",
              "      <td>10.200.7.7</td>\n",
              "      <td>3128</td>\n",
              "    </tr>\n",
              "    <tr>\n",
              "      <th>1</th>\n",
              "      <td>10.200.7.7</td>\n",
              "      <td>3128</td>\n",
              "      <td>172.19.1.46</td>\n",
              "      <td>52422</td>\n",
              "    </tr>\n",
              "    <tr>\n",
              "      <th>2</th>\n",
              "      <td>50.31.185.39</td>\n",
              "      <td>80</td>\n",
              "      <td>10.200.7.217</td>\n",
              "      <td>38848</td>\n",
              "    </tr>\n",
              "    <tr>\n",
              "      <th>3</th>\n",
              "      <td>50.31.185.39</td>\n",
              "      <td>80</td>\n",
              "      <td>10.200.7.217</td>\n",
              "      <td>38848</td>\n",
              "    </tr>\n",
              "    <tr>\n",
              "      <th>4</th>\n",
              "      <td>192.168.72.43</td>\n",
              "      <td>55961</td>\n",
              "      <td>10.200.7.7</td>\n",
              "      <td>3128</td>\n",
              "    </tr>\n",
              "    <tr>\n",
              "      <th>...</th>\n",
              "      <td>...</td>\n",
              "      <td>...</td>\n",
              "      <td>...</td>\n",
              "      <td>...</td>\n",
              "    </tr>\n",
              "    <tr>\n",
              "      <th>3577291</th>\n",
              "      <td>98.138.79.73</td>\n",
              "      <td>443</td>\n",
              "      <td>10.200.7.199</td>\n",
              "      <td>42135</td>\n",
              "    </tr>\n",
              "    <tr>\n",
              "      <th>3577292</th>\n",
              "      <td>98.138.79.73</td>\n",
              "      <td>443</td>\n",
              "      <td>10.200.7.217</td>\n",
              "      <td>51546</td>\n",
              "    </tr>\n",
              "    <tr>\n",
              "      <th>3577293</th>\n",
              "      <td>98.138.79.73</td>\n",
              "      <td>443</td>\n",
              "      <td>10.200.7.218</td>\n",
              "      <td>44366</td>\n",
              "    </tr>\n",
              "    <tr>\n",
              "      <th>3577294</th>\n",
              "      <td>98.138.79.73</td>\n",
              "      <td>443</td>\n",
              "      <td>10.200.7.195</td>\n",
              "      <td>52341</td>\n",
              "    </tr>\n",
              "    <tr>\n",
              "      <th>3577295</th>\n",
              "      <td>98.138.79.73</td>\n",
              "      <td>443</td>\n",
              "      <td>10.200.7.196</td>\n",
              "      <td>34188</td>\n",
              "    </tr>\n",
              "  </tbody>\n",
              "</table>\n",
              "<p>3577296 rows × 4 columns</p>\n",
              "</div>\n",
              "      <button class=\"colab-df-convert\" onclick=\"convertToInteractive('df-b983f39d-0b5f-4381-acac-8886185c737c')\"\n",
              "              title=\"Convert this dataframe to an interactive table.\"\n",
              "              style=\"display:none;\">\n",
              "        \n",
              "  <svg xmlns=\"http://www.w3.org/2000/svg\" height=\"24px\"viewBox=\"0 0 24 24\"\n",
              "       width=\"24px\">\n",
              "    <path d=\"M0 0h24v24H0V0z\" fill=\"none\"/>\n",
              "    <path d=\"M18.56 5.44l.94 2.06.94-2.06 2.06-.94-2.06-.94-.94-2.06-.94 2.06-2.06.94zm-11 1L8.5 8.5l.94-2.06 2.06-.94-2.06-.94L8.5 2.5l-.94 2.06-2.06.94zm10 10l.94 2.06.94-2.06 2.06-.94-2.06-.94-.94-2.06-.94 2.06-2.06.94z\"/><path d=\"M17.41 7.96l-1.37-1.37c-.4-.4-.92-.59-1.43-.59-.52 0-1.04.2-1.43.59L10.3 9.45l-7.72 7.72c-.78.78-.78 2.05 0 2.83L4 21.41c.39.39.9.59 1.41.59.51 0 1.02-.2 1.41-.59l7.78-7.78 2.81-2.81c.8-.78.8-2.07 0-2.86zM5.41 20L4 18.59l7.72-7.72 1.47 1.35L5.41 20z\"/>\n",
              "  </svg>\n",
              "      </button>\n",
              "      \n",
              "  <style>\n",
              "    .colab-df-container {\n",
              "      display:flex;\n",
              "      flex-wrap:wrap;\n",
              "      gap: 12px;\n",
              "    }\n",
              "\n",
              "    .colab-df-convert {\n",
              "      background-color: #E8F0FE;\n",
              "      border: none;\n",
              "      border-radius: 50%;\n",
              "      cursor: pointer;\n",
              "      display: none;\n",
              "      fill: #1967D2;\n",
              "      height: 32px;\n",
              "      padding: 0 0 0 0;\n",
              "      width: 32px;\n",
              "    }\n",
              "\n",
              "    .colab-df-convert:hover {\n",
              "      background-color: #E2EBFA;\n",
              "      box-shadow: 0px 1px 2px rgba(60, 64, 67, 0.3), 0px 1px 3px 1px rgba(60, 64, 67, 0.15);\n",
              "      fill: #174EA6;\n",
              "    }\n",
              "\n",
              "    [theme=dark] .colab-df-convert {\n",
              "      background-color: #3B4455;\n",
              "      fill: #D2E3FC;\n",
              "    }\n",
              "\n",
              "    [theme=dark] .colab-df-convert:hover {\n",
              "      background-color: #434B5C;\n",
              "      box-shadow: 0px 1px 3px 1px rgba(0, 0, 0, 0.15);\n",
              "      filter: drop-shadow(0px 1px 2px rgba(0, 0, 0, 0.3));\n",
              "      fill: #FFFFFF;\n",
              "    }\n",
              "  </style>\n",
              "\n",
              "      <script>\n",
              "        const buttonEl =\n",
              "          document.querySelector('#df-b983f39d-0b5f-4381-acac-8886185c737c button.colab-df-convert');\n",
              "        buttonEl.style.display =\n",
              "          google.colab.kernel.accessAllowed ? 'block' : 'none';\n",
              "\n",
              "        async function convertToInteractive(key) {\n",
              "          const element = document.querySelector('#df-b983f39d-0b5f-4381-acac-8886185c737c');\n",
              "          const dataTable =\n",
              "            await google.colab.kernel.invokeFunction('convertToInteractive',\n",
              "                                                     [key], {});\n",
              "          if (!dataTable) return;\n",
              "\n",
              "          const docLinkHtml = 'Like what you see? Visit the ' +\n",
              "            '<a target=\"_blank\" href=https://colab.research.google.com/notebooks/data_table.ipynb>data table notebook</a>'\n",
              "            + ' to learn more about interactive tables.';\n",
              "          element.innerHTML = '';\n",
              "          dataTable['output_type'] = 'display_data';\n",
              "          await google.colab.output.renderOutput(dataTable, element);\n",
              "          const docLink = document.createElement('div');\n",
              "          docLink.innerHTML = docLinkHtml;\n",
              "          element.appendChild(docLink);\n",
              "        }\n",
              "      </script>\n",
              "    </div>\n",
              "  </div>\n",
              "  "
            ]
          },
          "metadata": {},
          "execution_count": 24
        }
      ]
    },
    {
      "cell_type": "code",
      "source": [
        "ipdata.drop(ip_add_cols, axis = 1, inplace = True)"
      ],
      "metadata": {
        "id": "6_q3vUWox9wL"
      },
      "execution_count": null,
      "outputs": []
    },
    {
      "cell_type": "code",
      "source": [
        "from sklearn.preprocessing import LabelEncoder\n",
        "encoder = LabelEncoder().fit(ipdata['ProtocolName'])\n",
        "ipdata['ProtocolName'] = encoder.fit_transform(ipdata['ProtocolName'])\n",
        "ipdata['ProtocolName']"
      ],
      "metadata": {
        "colab": {
          "base_uri": "https://localhost:8080/"
        },
        "id": "fBm5vpkZyAOJ",
        "outputId": "fbe564cf-b5fb-494b-cc1a-16abfe03f261"
      },
      "execution_count": null,
      "outputs": [
        {
          "output_type": "execute_result",
          "data": {
            "text/plain": [
              "0          28\n",
              "1          28\n",
              "2          25\n",
              "3          25\n",
              "4          28\n",
              "           ..\n",
              "3577291    58\n",
              "3577292    58\n",
              "3577293    58\n",
              "3577294    58\n",
              "3577295    58\n",
              "Name: ProtocolName, Length: 3577296, dtype: int64"
            ]
          },
          "metadata": {},
          "execution_count": 26
        }
      ]
    },
    {
      "cell_type": "code",
      "source": [
        "ipdata.head(10)"
      ],
      "metadata": {
        "colab": {
          "base_uri": "https://localhost:8080/",
          "height": 456
        },
        "id": "MqsiuXoryCzc",
        "outputId": "8bf067d0-1e0f-4e93-8d68-0393a0827f15"
      },
      "execution_count": null,
      "outputs": [
        {
          "output_type": "execute_result",
          "data": {
            "text/plain": [
              "   Protocol  Flow.Duration  Total.Fwd.Packets  Total.Backward.Packets  \\\n",
              "0         6          45523                 22                      55   \n",
              "1         6              1                  2                       0   \n",
              "2         6              1                  3                       0   \n",
              "3         6            217                  1                       3   \n",
              "4         6          78068                  5                       0   \n",
              "5         6         105069                136                       0   \n",
              "6         6         104443                  5                       0   \n",
              "7         6          11002                  3                      12   \n",
              "8         6         108503                 10                       6   \n",
              "9         6         118415                  7                       0   \n",
              "\n",
              "   Total.Length.of.Fwd.Packets  Total.Length.of.Bwd.Packets  \\\n",
              "0                          132                     110414.0   \n",
              "1                           12                          0.0   \n",
              "2                          674                          0.0   \n",
              "3                            0                          0.0   \n",
              "4                         1076                          0.0   \n",
              "5                       313554                          0.0   \n",
              "6                         1076                          0.0   \n",
              "7                          232                       3664.0   \n",
              "8                         6904                       1302.0   \n",
              "9                         2210                          0.0   \n",
              "\n",
              "   Fwd.Packet.Length.Max  Fwd.Packet.Length.Min  Fwd.Packet.Length.Mean  \\\n",
              "0                      6                      6                6.000000   \n",
              "1                      6                      6                6.000000   \n",
              "2                    337                      0              224.666667   \n",
              "3                      0                      0                0.000000   \n",
              "4                    529                      6              215.200000   \n",
              "5                   5840                      6             2305.544118   \n",
              "6                    529                      6              215.200000   \n",
              "7                    226                      0               77.333333   \n",
              "8                   1448                      0              690.400000   \n",
              "9                   1096                      0              315.714286   \n",
              "\n",
              "   Fwd.Packet.Length.Std  ...  Active.Mean  Active.Std  Active.Max  \\\n",
              "0               0.000000  ...          0.0         0.0         0.0   \n",
              "1               0.000000  ...          0.0         0.0         0.0   \n",
              "2             194.567041  ...          0.0         0.0         0.0   \n",
              "3               0.000000  ...          0.0         0.0         0.0   \n",
              "4             286.458898  ...          0.0         0.0         0.0   \n",
              "5            1220.822406  ...          0.0         0.0         0.0   \n",
              "6             286.458898  ...          0.0         0.0         0.0   \n",
              "7             128.784057  ...          0.0         0.0         0.0   \n",
              "8             660.894209  ...          0.0         0.0         0.0   \n",
              "9             533.043374  ...          0.0         0.0         0.0   \n",
              "\n",
              "   Active.Min  Idle.Mean  Idle.Std  Idle.Max  Idle.Min  L7Protocol  \\\n",
              "0         0.0        0.0       0.0       0.0       0.0         131   \n",
              "1         0.0        0.0       0.0       0.0       0.0         131   \n",
              "2         0.0        0.0       0.0       0.0       0.0           7   \n",
              "3         0.0        0.0       0.0       0.0       0.0           7   \n",
              "4         0.0        0.0       0.0       0.0       0.0         131   \n",
              "5         0.0        0.0       0.0       0.0       0.0         131   \n",
              "6         0.0        0.0       0.0       0.0       0.0         131   \n",
              "7         0.0        0.0       0.0       0.0       0.0         130   \n",
              "8         0.0        0.0       0.0       0.0       0.0          91   \n",
              "9         0.0        0.0       0.0       0.0       0.0         126   \n",
              "\n",
              "   ProtocolName  \n",
              "0            28  \n",
              "1            28  \n",
              "2            25  \n",
              "3            25  \n",
              "4            28  \n",
              "5            28  \n",
              "6            28  \n",
              "7            26  \n",
              "8            58  \n",
              "9            22  \n",
              "\n",
              "[10 rows x 70 columns]"
            ],
            "text/html": [
              "\n",
              "  <div id=\"df-3f8857ae-dc96-426c-b62e-f703ca69fbd0\">\n",
              "    <div class=\"colab-df-container\">\n",
              "      <div>\n",
              "<style scoped>\n",
              "    .dataframe tbody tr th:only-of-type {\n",
              "        vertical-align: middle;\n",
              "    }\n",
              "\n",
              "    .dataframe tbody tr th {\n",
              "        vertical-align: top;\n",
              "    }\n",
              "\n",
              "    .dataframe thead th {\n",
              "        text-align: right;\n",
              "    }\n",
              "</style>\n",
              "<table border=\"1\" class=\"dataframe\">\n",
              "  <thead>\n",
              "    <tr style=\"text-align: right;\">\n",
              "      <th></th>\n",
              "      <th>Protocol</th>\n",
              "      <th>Flow.Duration</th>\n",
              "      <th>Total.Fwd.Packets</th>\n",
              "      <th>Total.Backward.Packets</th>\n",
              "      <th>Total.Length.of.Fwd.Packets</th>\n",
              "      <th>Total.Length.of.Bwd.Packets</th>\n",
              "      <th>Fwd.Packet.Length.Max</th>\n",
              "      <th>Fwd.Packet.Length.Min</th>\n",
              "      <th>Fwd.Packet.Length.Mean</th>\n",
              "      <th>Fwd.Packet.Length.Std</th>\n",
              "      <th>...</th>\n",
              "      <th>Active.Mean</th>\n",
              "      <th>Active.Std</th>\n",
              "      <th>Active.Max</th>\n",
              "      <th>Active.Min</th>\n",
              "      <th>Idle.Mean</th>\n",
              "      <th>Idle.Std</th>\n",
              "      <th>Idle.Max</th>\n",
              "      <th>Idle.Min</th>\n",
              "      <th>L7Protocol</th>\n",
              "      <th>ProtocolName</th>\n",
              "    </tr>\n",
              "  </thead>\n",
              "  <tbody>\n",
              "    <tr>\n",
              "      <th>0</th>\n",
              "      <td>6</td>\n",
              "      <td>45523</td>\n",
              "      <td>22</td>\n",
              "      <td>55</td>\n",
              "      <td>132</td>\n",
              "      <td>110414.0</td>\n",
              "      <td>6</td>\n",
              "      <td>6</td>\n",
              "      <td>6.000000</td>\n",
              "      <td>0.000000</td>\n",
              "      <td>...</td>\n",
              "      <td>0.0</td>\n",
              "      <td>0.0</td>\n",
              "      <td>0.0</td>\n",
              "      <td>0.0</td>\n",
              "      <td>0.0</td>\n",
              "      <td>0.0</td>\n",
              "      <td>0.0</td>\n",
              "      <td>0.0</td>\n",
              "      <td>131</td>\n",
              "      <td>28</td>\n",
              "    </tr>\n",
              "    <tr>\n",
              "      <th>1</th>\n",
              "      <td>6</td>\n",
              "      <td>1</td>\n",
              "      <td>2</td>\n",
              "      <td>0</td>\n",
              "      <td>12</td>\n",
              "      <td>0.0</td>\n",
              "      <td>6</td>\n",
              "      <td>6</td>\n",
              "      <td>6.000000</td>\n",
              "      <td>0.000000</td>\n",
              "      <td>...</td>\n",
              "      <td>0.0</td>\n",
              "      <td>0.0</td>\n",
              "      <td>0.0</td>\n",
              "      <td>0.0</td>\n",
              "      <td>0.0</td>\n",
              "      <td>0.0</td>\n",
              "      <td>0.0</td>\n",
              "      <td>0.0</td>\n",
              "      <td>131</td>\n",
              "      <td>28</td>\n",
              "    </tr>\n",
              "    <tr>\n",
              "      <th>2</th>\n",
              "      <td>6</td>\n",
              "      <td>1</td>\n",
              "      <td>3</td>\n",
              "      <td>0</td>\n",
              "      <td>674</td>\n",
              "      <td>0.0</td>\n",
              "      <td>337</td>\n",
              "      <td>0</td>\n",
              "      <td>224.666667</td>\n",
              "      <td>194.567041</td>\n",
              "      <td>...</td>\n",
              "      <td>0.0</td>\n",
              "      <td>0.0</td>\n",
              "      <td>0.0</td>\n",
              "      <td>0.0</td>\n",
              "      <td>0.0</td>\n",
              "      <td>0.0</td>\n",
              "      <td>0.0</td>\n",
              "      <td>0.0</td>\n",
              "      <td>7</td>\n",
              "      <td>25</td>\n",
              "    </tr>\n",
              "    <tr>\n",
              "      <th>3</th>\n",
              "      <td>6</td>\n",
              "      <td>217</td>\n",
              "      <td>1</td>\n",
              "      <td>3</td>\n",
              "      <td>0</td>\n",
              "      <td>0.0</td>\n",
              "      <td>0</td>\n",
              "      <td>0</td>\n",
              "      <td>0.000000</td>\n",
              "      <td>0.000000</td>\n",
              "      <td>...</td>\n",
              "      <td>0.0</td>\n",
              "      <td>0.0</td>\n",
              "      <td>0.0</td>\n",
              "      <td>0.0</td>\n",
              "      <td>0.0</td>\n",
              "      <td>0.0</td>\n",
              "      <td>0.0</td>\n",
              "      <td>0.0</td>\n",
              "      <td>7</td>\n",
              "      <td>25</td>\n",
              "    </tr>\n",
              "    <tr>\n",
              "      <th>4</th>\n",
              "      <td>6</td>\n",
              "      <td>78068</td>\n",
              "      <td>5</td>\n",
              "      <td>0</td>\n",
              "      <td>1076</td>\n",
              "      <td>0.0</td>\n",
              "      <td>529</td>\n",
              "      <td>6</td>\n",
              "      <td>215.200000</td>\n",
              "      <td>286.458898</td>\n",
              "      <td>...</td>\n",
              "      <td>0.0</td>\n",
              "      <td>0.0</td>\n",
              "      <td>0.0</td>\n",
              "      <td>0.0</td>\n",
              "      <td>0.0</td>\n",
              "      <td>0.0</td>\n",
              "      <td>0.0</td>\n",
              "      <td>0.0</td>\n",
              "      <td>131</td>\n",
              "      <td>28</td>\n",
              "    </tr>\n",
              "    <tr>\n",
              "      <th>5</th>\n",
              "      <td>6</td>\n",
              "      <td>105069</td>\n",
              "      <td>136</td>\n",
              "      <td>0</td>\n",
              "      <td>313554</td>\n",
              "      <td>0.0</td>\n",
              "      <td>5840</td>\n",
              "      <td>6</td>\n",
              "      <td>2305.544118</td>\n",
              "      <td>1220.822406</td>\n",
              "      <td>...</td>\n",
              "      <td>0.0</td>\n",
              "      <td>0.0</td>\n",
              "      <td>0.0</td>\n",
              "      <td>0.0</td>\n",
              "      <td>0.0</td>\n",
              "      <td>0.0</td>\n",
              "      <td>0.0</td>\n",
              "      <td>0.0</td>\n",
              "      <td>131</td>\n",
              "      <td>28</td>\n",
              "    </tr>\n",
              "    <tr>\n",
              "      <th>6</th>\n",
              "      <td>6</td>\n",
              "      <td>104443</td>\n",
              "      <td>5</td>\n",
              "      <td>0</td>\n",
              "      <td>1076</td>\n",
              "      <td>0.0</td>\n",
              "      <td>529</td>\n",
              "      <td>6</td>\n",
              "      <td>215.200000</td>\n",
              "      <td>286.458898</td>\n",
              "      <td>...</td>\n",
              "      <td>0.0</td>\n",
              "      <td>0.0</td>\n",
              "      <td>0.0</td>\n",
              "      <td>0.0</td>\n",
              "      <td>0.0</td>\n",
              "      <td>0.0</td>\n",
              "      <td>0.0</td>\n",
              "      <td>0.0</td>\n",
              "      <td>131</td>\n",
              "      <td>28</td>\n",
              "    </tr>\n",
              "    <tr>\n",
              "      <th>7</th>\n",
              "      <td>6</td>\n",
              "      <td>11002</td>\n",
              "      <td>3</td>\n",
              "      <td>12</td>\n",
              "      <td>232</td>\n",
              "      <td>3664.0</td>\n",
              "      <td>226</td>\n",
              "      <td>0</td>\n",
              "      <td>77.333333</td>\n",
              "      <td>128.784057</td>\n",
              "      <td>...</td>\n",
              "      <td>0.0</td>\n",
              "      <td>0.0</td>\n",
              "      <td>0.0</td>\n",
              "      <td>0.0</td>\n",
              "      <td>0.0</td>\n",
              "      <td>0.0</td>\n",
              "      <td>0.0</td>\n",
              "      <td>0.0</td>\n",
              "      <td>130</td>\n",
              "      <td>26</td>\n",
              "    </tr>\n",
              "    <tr>\n",
              "      <th>8</th>\n",
              "      <td>6</td>\n",
              "      <td>108503</td>\n",
              "      <td>10</td>\n",
              "      <td>6</td>\n",
              "      <td>6904</td>\n",
              "      <td>1302.0</td>\n",
              "      <td>1448</td>\n",
              "      <td>0</td>\n",
              "      <td>690.400000</td>\n",
              "      <td>660.894209</td>\n",
              "      <td>...</td>\n",
              "      <td>0.0</td>\n",
              "      <td>0.0</td>\n",
              "      <td>0.0</td>\n",
              "      <td>0.0</td>\n",
              "      <td>0.0</td>\n",
              "      <td>0.0</td>\n",
              "      <td>0.0</td>\n",
              "      <td>0.0</td>\n",
              "      <td>91</td>\n",
              "      <td>58</td>\n",
              "    </tr>\n",
              "    <tr>\n",
              "      <th>9</th>\n",
              "      <td>6</td>\n",
              "      <td>118415</td>\n",
              "      <td>7</td>\n",
              "      <td>0</td>\n",
              "      <td>2210</td>\n",
              "      <td>0.0</td>\n",
              "      <td>1096</td>\n",
              "      <td>0</td>\n",
              "      <td>315.714286</td>\n",
              "      <td>533.043374</td>\n",
              "      <td>...</td>\n",
              "      <td>0.0</td>\n",
              "      <td>0.0</td>\n",
              "      <td>0.0</td>\n",
              "      <td>0.0</td>\n",
              "      <td>0.0</td>\n",
              "      <td>0.0</td>\n",
              "      <td>0.0</td>\n",
              "      <td>0.0</td>\n",
              "      <td>126</td>\n",
              "      <td>22</td>\n",
              "    </tr>\n",
              "  </tbody>\n",
              "</table>\n",
              "<p>10 rows × 70 columns</p>\n",
              "</div>\n",
              "      <button class=\"colab-df-convert\" onclick=\"convertToInteractive('df-3f8857ae-dc96-426c-b62e-f703ca69fbd0')\"\n",
              "              title=\"Convert this dataframe to an interactive table.\"\n",
              "              style=\"display:none;\">\n",
              "        \n",
              "  <svg xmlns=\"http://www.w3.org/2000/svg\" height=\"24px\"viewBox=\"0 0 24 24\"\n",
              "       width=\"24px\">\n",
              "    <path d=\"M0 0h24v24H0V0z\" fill=\"none\"/>\n",
              "    <path d=\"M18.56 5.44l.94 2.06.94-2.06 2.06-.94-2.06-.94-.94-2.06-.94 2.06-2.06.94zm-11 1L8.5 8.5l.94-2.06 2.06-.94-2.06-.94L8.5 2.5l-.94 2.06-2.06.94zm10 10l.94 2.06.94-2.06 2.06-.94-2.06-.94-.94-2.06-.94 2.06-2.06.94z\"/><path d=\"M17.41 7.96l-1.37-1.37c-.4-.4-.92-.59-1.43-.59-.52 0-1.04.2-1.43.59L10.3 9.45l-7.72 7.72c-.78.78-.78 2.05 0 2.83L4 21.41c.39.39.9.59 1.41.59.51 0 1.02-.2 1.41-.59l7.78-7.78 2.81-2.81c.8-.78.8-2.07 0-2.86zM5.41 20L4 18.59l7.72-7.72 1.47 1.35L5.41 20z\"/>\n",
              "  </svg>\n",
              "      </button>\n",
              "      \n",
              "  <style>\n",
              "    .colab-df-container {\n",
              "      display:flex;\n",
              "      flex-wrap:wrap;\n",
              "      gap: 12px;\n",
              "    }\n",
              "\n",
              "    .colab-df-convert {\n",
              "      background-color: #E8F0FE;\n",
              "      border: none;\n",
              "      border-radius: 50%;\n",
              "      cursor: pointer;\n",
              "      display: none;\n",
              "      fill: #1967D2;\n",
              "      height: 32px;\n",
              "      padding: 0 0 0 0;\n",
              "      width: 32px;\n",
              "    }\n",
              "\n",
              "    .colab-df-convert:hover {\n",
              "      background-color: #E2EBFA;\n",
              "      box-shadow: 0px 1px 2px rgba(60, 64, 67, 0.3), 0px 1px 3px 1px rgba(60, 64, 67, 0.15);\n",
              "      fill: #174EA6;\n",
              "    }\n",
              "\n",
              "    [theme=dark] .colab-df-convert {\n",
              "      background-color: #3B4455;\n",
              "      fill: #D2E3FC;\n",
              "    }\n",
              "\n",
              "    [theme=dark] .colab-df-convert:hover {\n",
              "      background-color: #434B5C;\n",
              "      box-shadow: 0px 1px 3px 1px rgba(0, 0, 0, 0.15);\n",
              "      filter: drop-shadow(0px 1px 2px rgba(0, 0, 0, 0.3));\n",
              "      fill: #FFFFFF;\n",
              "    }\n",
              "  </style>\n",
              "\n",
              "      <script>\n",
              "        const buttonEl =\n",
              "          document.querySelector('#df-3f8857ae-dc96-426c-b62e-f703ca69fbd0 button.colab-df-convert');\n",
              "        buttonEl.style.display =\n",
              "          google.colab.kernel.accessAllowed ? 'block' : 'none';\n",
              "\n",
              "        async function convertToInteractive(key) {\n",
              "          const element = document.querySelector('#df-3f8857ae-dc96-426c-b62e-f703ca69fbd0');\n",
              "          const dataTable =\n",
              "            await google.colab.kernel.invokeFunction('convertToInteractive',\n",
              "                                                     [key], {});\n",
              "          if (!dataTable) return;\n",
              "\n",
              "          const docLinkHtml = 'Like what you see? Visit the ' +\n",
              "            '<a target=\"_blank\" href=https://colab.research.google.com/notebooks/data_table.ipynb>data table notebook</a>'\n",
              "            + ' to learn more about interactive tables.';\n",
              "          element.innerHTML = '';\n",
              "          dataTable['output_type'] = 'display_data';\n",
              "          await google.colab.output.renderOutput(dataTable, element);\n",
              "          const docLink = document.createElement('div');\n",
              "          docLink.innerHTML = docLinkHtml;\n",
              "          element.appendChild(docLink);\n",
              "        }\n",
              "      </script>\n",
              "    </div>\n",
              "  </div>\n",
              "  "
            ]
          },
          "metadata": {},
          "execution_count": 27
        }
      ]
    },
    {
      "cell_type": "code",
      "source": [
        "ipdata.columns"
      ],
      "metadata": {
        "colab": {
          "base_uri": "https://localhost:8080/"
        },
        "id": "qG9lHyEeyFmb",
        "outputId": "97eb5133-4207-49e4-90ab-43b9f4326114"
      },
      "execution_count": null,
      "outputs": [
        {
          "output_type": "execute_result",
          "data": {
            "text/plain": [
              "Index(['Protocol', 'Flow.Duration', 'Total.Fwd.Packets',\n",
              "       'Total.Backward.Packets', 'Total.Length.of.Fwd.Packets',\n",
              "       'Total.Length.of.Bwd.Packets', 'Fwd.Packet.Length.Max',\n",
              "       'Fwd.Packet.Length.Min', 'Fwd.Packet.Length.Mean',\n",
              "       'Fwd.Packet.Length.Std', 'Bwd.Packet.Length.Max',\n",
              "       'Bwd.Packet.Length.Min', 'Bwd.Packet.Length.Mean',\n",
              "       'Bwd.Packet.Length.Std', 'Flow.Bytes.s', 'Flow.Packets.s',\n",
              "       'Flow.IAT.Mean', 'Flow.IAT.Std', 'Flow.IAT.Max', 'Flow.IAT.Min',\n",
              "       'Fwd.IAT.Total', 'Fwd.IAT.Mean', 'Fwd.IAT.Std', 'Fwd.IAT.Max',\n",
              "       'Fwd.IAT.Min', 'Bwd.IAT.Total', 'Bwd.IAT.Mean', 'Bwd.IAT.Std',\n",
              "       'Bwd.IAT.Max', 'Bwd.IAT.Min', 'Fwd.PSH.Flags', 'Fwd.Header.Length',\n",
              "       'Bwd.Header.Length', 'Fwd.Packets.s', 'Bwd.Packets.s',\n",
              "       'Min.Packet.Length', 'Max.Packet.Length', 'Packet.Length.Mean',\n",
              "       'Packet.Length.Std', 'Packet.Length.Variance', 'FIN.Flag.Count',\n",
              "       'SYN.Flag.Count', 'RST.Flag.Count', 'PSH.Flag.Count', 'ACK.Flag.Count',\n",
              "       'URG.Flag.Count', 'ECE.Flag.Count', 'Down.Up.Ratio',\n",
              "       'Average.Packet.Size', 'Avg.Fwd.Segment.Size', 'Avg.Bwd.Segment.Size',\n",
              "       'Fwd.Header.Length.1', 'Subflow.Fwd.Packets', 'Subflow.Fwd.Bytes',\n",
              "       'Subflow.Bwd.Packets', 'Subflow.Bwd.Bytes', 'Init_Win_bytes_forward',\n",
              "       'Init_Win_bytes_backward', 'act_data_pkt_fwd', 'min_seg_size_forward',\n",
              "       'Active.Mean', 'Active.Std', 'Active.Max', 'Active.Min', 'Idle.Mean',\n",
              "       'Idle.Std', 'Idle.Max', 'Idle.Min', 'L7Protocol', 'ProtocolName'],\n",
              "      dtype='object')"
            ]
          },
          "metadata": {},
          "execution_count": 28
        }
      ]
    },
    {
      "cell_type": "code",
      "source": [
        "ipdata = ipdata.iloc[:100000,:]"
      ],
      "metadata": {
        "id": "FQ3kootwyHwQ"
      },
      "execution_count": null,
      "outputs": []
    },
    {
      "cell_type": "code",
      "source": [
        "ipdata.shape"
      ],
      "metadata": {
        "colab": {
          "base_uri": "https://localhost:8080/"
        },
        "id": "PmPVxVt9yJ5F",
        "outputId": "e1963fde-23d7-49d9-b6c8-316a72cd0e2f"
      },
      "execution_count": null,
      "outputs": [
        {
          "output_type": "execute_result",
          "data": {
            "text/plain": [
              "(100000, 70)"
            ]
          },
          "metadata": {},
          "execution_count": 30
        }
      ]
    },
    {
      "cell_type": "code",
      "source": [
        "x = ipdata.drop(columns = ['ProtocolName','Fwd.Packet.Length.Std','Bwd.Packet.Length.Std','Fwd.IAT.Std','Bwd.IAT.Std','Fwd.Header.Length','Bwd.Header.Length','Packet.Length.Std','Packet.Length.Variance','Avg.Fwd.Segment.Size','Avg.Bwd.Segment.Size','Fwd.Header.Length.1','Subflow.Fwd.Packets','Subflow.Fwd.Bytes','Subflow.Bwd.Packets','Subflow.Bwd.Bytes','Init_Win_bytes_forward','Init_Win_bytes_backward','act_data_pkt_fwd','min_seg_size_forward'])\n",
        "y = ipdata['ProtocolName']"
      ],
      "metadata": {
        "id": "rTDDz6ZhyLUa"
      },
      "execution_count": null,
      "outputs": []
    },
    {
      "cell_type": "code",
      "source": [
        "from sklearn.metrics import explained_variance_score\n",
        "from sklearn.model_selection import train_test_split\n",
        "x_train, x_test, y_train, y_test = train_test_split(x, y, test_size=0.2, random_state=3)"
      ],
      "metadata": {
        "id": "aNSn9xOgyOI1"
      },
      "execution_count": null,
      "outputs": []
    },
    {
      "cell_type": "code",
      "source": [
        "a = y_train.to_numpy()\n",
        "np.unique(a, return_counts=True)"
      ],
      "metadata": {
        "colab": {
          "base_uri": "https://localhost:8080/"
        },
        "id": "CBJ0Jq5jyP01",
        "outputId": "71c9a51a-6d4d-4eec-900e-c514bbc01cfd"
      },
      "execution_count": null,
      "outputs": [
        {
          "output_type": "execute_result",
          "data": {
            "text/plain": [
              "(array([ 1,  2,  3,  4,  7,  9, 11, 13, 14, 16, 18, 20, 21, 22, 23, 25, 26,\n",
              "        27, 28, 29, 30, 35, 36, 37, 38, 39, 43, 44, 53, 58, 59, 65, 67, 68,\n",
              "        72, 74, 75, 76, 77]),\n",
              " array([ 1209,    14,    21,    13,     3,   234,   346,    10,   353,\n",
              "           43,   507,     7,   647, 17038,    10, 27102,  6259,    21,\n",
              "        11055,    10,    16,  1012,     3,   279,     1,    34,    61,\n",
              "            4,   521,  8101,    35,     2,   331,     4,    71,   220,\n",
              "          867,   439,  3097]))"
            ]
          },
          "metadata": {},
          "execution_count": 33
        }
      ]
    },
    {
      "cell_type": "code",
      "source": [
        "from sklearn.tree import DecisionTreeClassifier as dtc\n",
        "tree_classify = dtc()\n",
        "tree_classify.fit(x_train,y_train)\n",
        "pred = tree_classify.predict(x_test)\n",
        "explained_variance_score(pred,y_test)"
      ],
      "metadata": {
        "colab": {
          "base_uri": "https://localhost:8080/"
        },
        "id": "57s3dJ9wyUEz",
        "outputId": "46073f78-1c3c-43a5-ac69-74706a717aa0"
      },
      "execution_count": null,
      "outputs": [
        {
          "output_type": "execute_result",
          "data": {
            "text/plain": [
              "0.9998448838219528"
            ]
          },
          "metadata": {},
          "execution_count": 36
        }
      ]
    },
    {
      "cell_type": "code",
      "source": [
        "#RNN"
      ],
      "metadata": {
        "id": "KfjdUkJmegVo"
      },
      "execution_count": null,
      "outputs": []
    },
    {
      "cell_type": "code",
      "source": [
        "\n",
        "import time\n",
        "import numpy as np\n",
        "import pandas as pd\n",
        "import seaborn as sns\n",
        "import matplotlib.pyplot as plt\n",
        "from sklearn.model_selection import train_test_split\n",
        "from sklearn.preprocessing import MinMaxScaler, OneHotEncoder\n",
        "from sklearn.metrics import confusion_matrix, classification_report\n",
        "import sklearn\n",
        "from sklearn import metrics\n",
        "import tensorflow as tf\n",
        "import os\n",
        "\n",
        "from sklearn.cluster import KMeans\n",
        "import pandas as pd\n",
        "from sklearn.preprocessing import MinMaxScaler\n",
        "from matplotlib import pyplot as plt\n",
        "%matplotlib inline"
      ],
      "metadata": {
        "id": "GYs7UBFK8im0"
      },
      "execution_count": null,
      "outputs": []
    },
    {
      "cell_type": "code",
      "source": [
        "df = data"
      ],
      "metadata": {
        "id": "HmqFcjl1t6yJ"
      },
      "execution_count": null,
      "outputs": []
    },
    {
      "cell_type": "code",
      "source": [],
      "metadata": {
        "id": "pblX4QP_SwUP"
      },
      "execution_count": null,
      "outputs": []
    },
    {
      "cell_type": "code",
      "source": [
        "km = KMeans(n_clusters=2)\n",
        "y_predicted = km.fit_predict(df[['Total.Fwd.Packets','Flow.Duration','Total.Backward.Packets','Total.Length.of.Bwd.Packets','Total.Length.of.Fwd.Packets']])\n",
        "y_predicted"
      ],
      "metadata": {
        "id": "KNiurGdT0zYW",
        "colab": {
          "base_uri": "https://localhost:8080/"
        },
        "outputId": "fa8169e4-62d0-44de-fea6-aa90c7cf6a7a"
      },
      "execution_count": null,
      "outputs": [
        {
          "output_type": "stream",
          "name": "stderr",
          "text": [
            "/usr/local/lib/python3.8/dist-packages/sklearn/cluster/_kmeans.py:870: FutureWarning: The default value of `n_init` will change from 10 to 'auto' in 1.4. Set the value of `n_init` explicitly to suppress the warning\n",
            "  warnings.warn(\n"
          ]
        },
        {
          "output_type": "execute_result",
          "data": {
            "text/plain": [
              "array([0, 0, 0, ..., 0, 0, 0], dtype=int32)"
            ]
          },
          "metadata": {},
          "execution_count": 41
        }
      ]
    },
    {
      "cell_type": "code",
      "source": [],
      "metadata": {
        "id": "176vr5o3SxIt"
      },
      "execution_count": null,
      "outputs": []
    },
    {
      "cell_type": "code",
      "source": [
        "df['Label']=y_predicted"
      ],
      "metadata": {
        "id": "fgsv2nhvuCXy"
      },
      "execution_count": null,
      "outputs": []
    },
    {
      "cell_type": "code",
      "source": [],
      "metadata": {
        "id": "vVnE6BCtSzJX"
      },
      "execution_count": null,
      "outputs": []
    },
    {
      "cell_type": "code",
      "source": [
        "ct=0\n",
        "for i in df['Label']:\n",
        "    if i==0:\n",
        "        ct=ct+1\n",
        "ct"
      ],
      "metadata": {
        "colab": {
          "base_uri": "https://localhost:8080/"
        },
        "id": "-Z1pgzoXuKCa",
        "outputId": "003e10c7-32d6-484a-9cf4-09871a6b3b7f"
      },
      "execution_count": null,
      "outputs": [
        {
          "output_type": "execute_result",
          "data": {
            "text/plain": [
              "2717822"
            ]
          },
          "metadata": {},
          "execution_count": 43
        }
      ]
    },
    {
      "cell_type": "code",
      "source": [
        "df1 = df[df['Label']==0]\n",
        "df2 = df[df['Label']==1]\n",
        "\n",
        "plt.scatter(df1['Total.Fwd.Packets'],df1['Flow.Duration'],color='green')\n",
        "plt.scatter(df2['Total.Fwd.Packets'],df2['Flow.Duration'],color='red')\n",
        "\n",
        "plt.scatter(km.cluster_centers_[:,0],km.cluster_centers_[:,1],color='purple',marker='*',label='centroid')\n",
        "plt.xlabel('Packet')\n",
        "plt.ylabel('flow duration')\n",
        "plt.legend()"
      ],
      "metadata": {
        "colab": {
          "base_uri": "https://localhost:8080/",
          "height": 308
        },
        "id": "ntSFHtTYuL2g",
        "outputId": "0ba840bb-7a35-401b-a658-db4ac4e52f2c"
      },
      "execution_count": null,
      "outputs": [
        {
          "output_type": "execute_result",
          "data": {
            "text/plain": [
              "<matplotlib.legend.Legend at 0x7f43e1ea31c0>"
            ]
          },
          "metadata": {},
          "execution_count": 44
        },
        {
          "output_type": "display_data",
          "data": {
            "text/plain": [
              "<Figure size 432x288 with 1 Axes>"
            ],
            "image/png": "[encoded data removed]"
          },
          "metadata": {
            "needs_background": "light"
          }
        }
      ]
    },
    {
      "cell_type": "code",
      "source": [
        "km.cluster_centers_\n",
        "dataset = df"
      ],
      "metadata": {
        "id": "OnmewsaCuO8_"
      },
      "execution_count": null,
      "outputs": []
    },
    {
      "cell_type": "code",
      "source": [],
      "metadata": {
        "id": "tUrZ2fK_uuUJ"
      },
      "execution_count": null,
      "outputs": []
    },
    {
      "cell_type": "code",
      "source": [
        "# Histogram on Source.IP\n",
        "Sour_feat = pd.DataFrame(dataset['Source.IP'].value_counts()[:30])\n",
        "plt.figure(figsize=(20,10))\n",
        "plt.plot(Sour_feat)\n",
        "plt.xticks(rotation=90)\n",
        "plt.xlabel('Source.IP', {'fontsize':15})\n",
        "plt.ylabel('Counts', {'fontsize':15})\n",
        "plt.title('Top 30 Counts in Source.IP\\n', {'fontsize':20})\n",
        "plt.grid()\n",
        "plt.savefig('hist Source.IP.png')\n",
        "Sour_feat = Sour_feat.reset_index()['index'].values"
      ],
      "metadata": {
        "colab": {
          "base_uri": "https://localhost:8080/",
          "height": 723
        },
        "id": "CJYJZ1KNt-V7",
        "outputId": "c207468a-17a3-4b3a-be89-b7006af6ef41"
      },
      "execution_count": null,
      "outputs": [
        {
          "output_type": "display_data",
          "data": {
            "text/plain": [
              "<Figure size 1440x720 with 1 Axes>"
            ],
            "image/png": "[encoded data removed]"
          },
          "metadata": {
            "needs_background": "light"
          }
        }
      ]
    },
    {
      "cell_type": "code",
      "source": [],
      "metadata": {
        "id": "OugEqw-2TQ0I"
      },
      "execution_count": null,
      "outputs": []
    },
    {
      "cell_type": "code",
      "source": [],
      "metadata": {
        "id": "1wiooHQOuvd3"
      },
      "execution_count": null,
      "outputs": []
    },
    {
      "cell_type": "code",
      "source": [
        "# Histogram on Destination.IP\n",
        "Dest_feat = pd.DataFrame(dataset['Destination.IP'].value_counts()[:30])\n",
        "plt.figure(figsize=(20,10))\n",
        "plt.plot(Dest_feat)\n",
        "plt.xticks(rotation=90)\n",
        "plt.xlabel('Destination.IP', {'fontsize':15})\n",
        "plt.ylabel('Counts', {'fontsize':15})\n",
        "plt.title('Top 30 Counts in Destination.IP\\n', {'fontsize':20})\n",
        "plt.grid()\n",
        "plt.savefig('hist Destination.IP.png')\n",
        "Dest_feat = Dest_feat.reset_index()['index'].values"
      ],
      "metadata": {
        "colab": {
          "base_uri": "https://localhost:8080/",
          "height": 723
        },
        "id": "YxdgQQqht1yE",
        "outputId": "946c528f-30db-4af8-fa1f-d46d4db91b7f"
      },
      "execution_count": null,
      "outputs": [
        {
          "output_type": "display_data",
          "data": {
            "text/plain": [
              "<Figure size 1440x720 with 1 Axes>"
            ],
            "image/png": "[encoded data removed]"
          },
          "metadata": {
            "needs_background": "light"
          }
        }
      ]
    },
    {
      "cell_type": "code",
      "source": [],
      "metadata": {
        "id": "-4biwDsDTSUi"
      },
      "execution_count": null,
      "outputs": []
    },
    {
      "cell_type": "code",
      "source": [
        "f_dataset = dataset[dataset['Destination.IP'].isin(Dest_feat) & dataset['Source.IP'].isin(Sour_feat)].reset_index()\n",
        "f_dataset = f_dataset.drop('index', axis=1)"
      ],
      "metadata": {
        "id": "jq5xKaR-ux2I"
      },
      "execution_count": null,
      "outputs": []
    },
    {
      "cell_type": "code",
      "source": [],
      "metadata": {
        "id": "PS3bknbATTpX"
      },
      "execution_count": null,
      "outputs": []
    },
    {
      "cell_type": "code",
      "source": [
        "# removing columns\n",
        "f_dataset = f_dataset.drop(f_dataset.select_dtypes(include = ['object']).columns, axis = 1)\n",
        "f_dataset = f_dataset.drop(['Source.Port','Destination.Port','L7Protocol','Protocol'], axis = 1)\n",
        "f_dataset.columns"
      ],
      "metadata": {
        "colab": {
          "base_uri": "https://localhost:8080/"
        },
        "id": "Sgvj9RPau3Ja",
        "outputId": "1e3b1682-f656-41ff-9834-0d534931f9e5"
      },
      "execution_count": null,
      "outputs": [
        {
          "output_type": "execute_result",
          "data": {
            "text/plain": [
              "Index(['Flow.Duration', 'Total.Fwd.Packets', 'Total.Backward.Packets',\n",
              "       'Total.Length.of.Fwd.Packets', 'Total.Length.of.Bwd.Packets',\n",
              "       'Fwd.Packet.Length.Max', 'Fwd.Packet.Length.Min',\n",
              "       'Fwd.Packet.Length.Mean', 'Fwd.Packet.Length.Std',\n",
              "       'Bwd.Packet.Length.Max', 'Bwd.Packet.Length.Min',\n",
              "       'Bwd.Packet.Length.Mean', 'Bwd.Packet.Length.Std', 'Flow.Bytes.s',\n",
              "       'Flow.Packets.s', 'Flow.IAT.Mean', 'Flow.IAT.Std', 'Flow.IAT.Max',\n",
              "       'Flow.IAT.Min', 'Fwd.IAT.Total', 'Fwd.IAT.Mean', 'Fwd.IAT.Std',\n",
              "       'Fwd.IAT.Max', 'Fwd.IAT.Min', 'Bwd.IAT.Total', 'Bwd.IAT.Mean',\n",
              "       'Bwd.IAT.Std', 'Bwd.IAT.Max', 'Bwd.IAT.Min', 'Fwd.PSH.Flags',\n",
              "       'Bwd.PSH.Flags', 'Fwd.URG.Flags', 'Bwd.URG.Flags', 'Fwd.Header.Length',\n",
              "       'Bwd.Header.Length', 'Fwd.Packets.s', 'Bwd.Packets.s',\n",
              "       'Min.Packet.Length', 'Max.Packet.Length', 'Packet.Length.Mean',\n",
              "       'Packet.Length.Std', 'Packet.Length.Variance', 'FIN.Flag.Count',\n",
              "       'SYN.Flag.Count', 'RST.Flag.Count', 'PSH.Flag.Count', 'ACK.Flag.Count',\n",
              "       'URG.Flag.Count', 'CWE.Flag.Count', 'ECE.Flag.Count', 'Down.Up.Ratio',\n",
              "       'Average.Packet.Size', 'Avg.Fwd.Segment.Size', 'Avg.Bwd.Segment.Size',\n",
              "       'Fwd.Header.Length.1', 'Fwd.Avg.Bytes.Bulk', 'Fwd.Avg.Packets.Bulk',\n",
              "       'Fwd.Avg.Bulk.Rate', 'Bwd.Avg.Bytes.Bulk', 'Bwd.Avg.Packets.Bulk',\n",
              "       'Bwd.Avg.Bulk.Rate', 'Subflow.Fwd.Packets', 'Subflow.Fwd.Bytes',\n",
              "       'Subflow.Bwd.Packets', 'Subflow.Bwd.Bytes', 'Init_Win_bytes_forward',\n",
              "       'Init_Win_bytes_backward', 'act_data_pkt_fwd', 'min_seg_size_forward',\n",
              "       'Active.Mean', 'Active.Std', 'Active.Max', 'Active.Min', 'Idle.Mean',\n",
              "       'Idle.Std', 'Idle.Max', 'Idle.Min', 'Label'],\n",
              "      dtype='object')"
            ]
          },
          "metadata": {},
          "execution_count": 49
        }
      ]
    },
    {
      "cell_type": "code",
      "source": [],
      "metadata": {
        "id": "dHmHrdFlTUwv"
      },
      "execution_count": null,
      "outputs": []
    },
    {
      "cell_type": "code",
      "source": [
        "label = pd.get_dummies(f_dataset['Label'])"
      ],
      "metadata": {
        "id": "WJQHCdS5u5au"
      },
      "execution_count": null,
      "outputs": []
    },
    {
      "cell_type": "code",
      "source": [
        "f_dataset=f_dataset.drop([\"Label\"],axis=1)"
      ],
      "metadata": {
        "id": "nODdtKOMu8BW"
      },
      "execution_count": null,
      "outputs": []
    },
    {
      "cell_type": "code",
      "source": [],
      "metadata": {
        "id": "P_lkkdytTWOO"
      },
      "execution_count": null,
      "outputs": []
    },
    {
      "cell_type": "code",
      "source": [
        "nr=8"
      ],
      "metadata": {
        "id": "VltHd5Czu9yx"
      },
      "execution_count": null,
      "outputs": []
    },
    {
      "cell_type": "code",
      "source": [
        "#RNN\n",
        "import tensorflow as tf\n",
        "from tensorflow.keras.models import Sequential\n",
        "from tensorflow.keras.layers import Dense, Dropout, LSTM\n",
        "\n",
        "from tensorflow.keras.layers import Embedding"
      ],
      "metadata": {
        "id": "Ju19RotYu_du"
      },
      "execution_count": null,
      "outputs": []
    },
    {
      "cell_type": "code",
      "source": [],
      "metadata": {
        "id": "-qKVJ69pTX85"
      },
      "execution_count": null,
      "outputs": []
    },
    {
      "cell_type": "code",
      "source": [
        "X=f_dataset\n",
        "X.shape"
      ],
      "metadata": {
        "colab": {
          "base_uri": "https://localhost:8080/"
        },
        "id": "mx7Q5C7SvDfK",
        "outputId": "295825bb-085e-4fa3-c213-c8b5383a377f"
      },
      "execution_count": null,
      "outputs": [
        {
          "output_type": "execute_result",
          "data": {
            "text/plain": [
              "(674133, 77)"
            ]
          },
          "metadata": {},
          "execution_count": 54
        }
      ]
    },
    {
      "cell_type": "code",
      "source": [],
      "metadata": {
        "id": "RGrY8nDVTYp_"
      },
      "execution_count": null,
      "outputs": []
    },
    {
      "cell_type": "code",
      "source": [],
      "metadata": {
        "id": "9dtAQcGQTZWW"
      },
      "execution_count": null,
      "outputs": []
    },
    {
      "cell_type": "code",
      "source": [
        "y=label\n",
        "y.shape"
      ],
      "metadata": {
        "colab": {
          "base_uri": "https://localhost:8080/"
        },
        "id": "9130i6-WvFSO",
        "outputId": "992cc8d3-e633-4d56-ba4a-5deef8f04aee"
      },
      "execution_count": null,
      "outputs": [
        {
          "output_type": "execute_result",
          "data": {
            "text/plain": [
              "(674133, 2)"
            ]
          },
          "metadata": {},
          "execution_count": 55
        }
      ]
    },
    {
      "cell_type": "code",
      "source": [],
      "metadata": {
        "id": "1xZVX3WsTaFH"
      },
      "execution_count": null,
      "outputs": []
    },
    {
      "cell_type": "code",
      "source": [
        "y=pd.DataFrame([x for x in np.where(y ==1, y.columns,'').flatten().tolist() if len(x) >0],columns= ([\"Output\"]) )"
      ],
      "metadata": {
        "id": "1ubrxhFNvHTY"
      },
      "execution_count": null,
      "outputs": []
    },
    {
      "cell_type": "code",
      "source": [],
      "metadata": {
        "id": "l6-q1dWyTa6l"
      },
      "execution_count": null,
      "outputs": []
    },
    {
      "cell_type": "code",
      "source": [
        "y=y.to_numpy()"
      ],
      "metadata": {
        "id": "eAKu6_ZAvJty"
      },
      "execution_count": null,
      "outputs": []
    },
    {
      "cell_type": "code",
      "source": [],
      "metadata": {
        "id": "KUkXJjZqTblf"
      },
      "execution_count": null,
      "outputs": []
    },
    {
      "cell_type": "code",
      "source": [
        "from sklearn.preprocessing import StandardScaler\n",
        "scaler = StandardScaler()\n",
        "scaler.fit(X)\n",
        "X = scaler.transform(X)\n",
        "from tensorflow.keras.utils import to_categorical\n",
        "y = to_categorical(y)\n",
        "#y"
      ],
      "metadata": {
        "id": "q49v63edvMFt"
      },
      "execution_count": null,
      "outputs": []
    },
    {
      "cell_type": "code",
      "source": [],
      "metadata": {
        "id": "FC3_G_VhTcOk"
      },
      "execution_count": null,
      "outputs": []
    },
    {
      "cell_type": "code",
      "source": [
        "print(X.shape)\n",
        "print(y.shape)"
      ],
      "metadata": {
        "colab": {
          "base_uri": "https://localhost:8080/"
        },
        "id": "bql2AhyDvN-w",
        "outputId": "776bbfd0-6250-4fd2-8292-8cdf7e471942"
      },
      "execution_count": null,
      "outputs": [
        {
          "output_type": "stream",
          "name": "stdout",
          "text": [
            "(674133, 77)\n",
            "(674133, 2)\n"
          ]
        }
      ]
    },
    {
      "cell_type": "code",
      "source": [],
      "metadata": {
        "id": "hOA_QQ55TdJl"
      },
      "execution_count": null,
      "outputs": []
    },
    {
      "cell_type": "code",
      "source": [
        "from sklearn.model_selection import train_test_split\n",
        "X_train, X_test, y_train, y_test = train_test_split(X, y, test_size = 0.2, random_state = 4)"
      ],
      "metadata": {
        "id": "8V68BDj5vQXt"
      },
      "execution_count": null,
      "outputs": []
    },
    {
      "cell_type": "code",
      "source": [],
      "metadata": {
        "id": "bQcyk8QwTeIi"
      },
      "execution_count": null,
      "outputs": []
    },
    {
      "cell_type": "code",
      "source": [
        "print(X_test.shape)\n",
        "print(y_test.shape)\n",
        "print(X_train.shape)\n",
        "print(y_train.shape)"
      ],
      "metadata": {
        "colab": {
          "base_uri": "https://localhost:8080/"
        },
        "id": "Jd1tsap8vTbf",
        "outputId": "ecc71fcc-bcd3-458d-aa97-6b239b87695b"
      },
      "execution_count": null,
      "outputs": [
        {
          "output_type": "stream",
          "name": "stdout",
          "text": [
            "(134827, 77)\n",
            "(134827, 2)\n",
            "(539306, 77)\n",
            "(539306, 2)\n"
          ]
        }
      ]
    },
    {
      "cell_type": "code",
      "source": [],
      "metadata": {
        "id": "ZDXqVqflTe5N"
      },
      "execution_count": null,
      "outputs": []
    },
    {
      "cell_type": "code",
      "source": [
        "X_train = np.reshape(X_train, (X_train.shape[0],1,X.shape[1]))\n",
        "X_test = np.reshape(X_test, (X_test.shape[0],1,X.shape[1]))"
      ],
      "metadata": {
        "id": "SsrlSMutvV2Z"
      },
      "execution_count": null,
      "outputs": []
    },
    {
      "cell_type": "code",
      "source": [],
      "metadata": {
        "id": "FVHjND9PTgqd"
      },
      "execution_count": null,
      "outputs": []
    },
    {
      "cell_type": "code",
      "source": [
        "tf.keras.backend.clear_session()\n",
        "\n",
        "model = Sequential()\n",
        "\n",
        "model.add(LSTM(128, input_shape=(1,77),activation=\"relu\",return_sequences=True))\n",
        "\n",
        "model.add(LSTM(128,activation=\"relu\"))\n",
        "\n",
        "model.add(Dense(y.shape[1], activation='sigmoid'))\n",
        "from tensorflow.keras.optimizers import SGD\n",
        "model.compile(loss = 'binary_crossentropy', optimizer = \"adam\", metrics = ['accuracy'])\n",
        "model.summary()"
      ],
      "metadata": {
        "colab": {
          "base_uri": "https://localhost:8080/"
        },
        "id": "-jAApa95vX4k",
        "outputId": "188b547a-9191-41f8-fa69-ae19af5155c6"
      },
      "execution_count": null,
      "outputs": [
        {
          "output_type": "stream",
          "name": "stdout",
          "text": [
            "Model: \"sequential\"\n",
            "_________________________________________________________________\n",
            " Layer (type)                Output Shape              Param #   \n",
            "=================================================================\n",
            " lstm (LSTM)                 (None, 1, 128)            105472    \n",
            "                                                                 \n",
            " lstm_1 (LSTM)               (None, 128)               131584    \n",
            "                                                                 \n",
            " dense (Dense)               (None, 2)                 258       \n",
            "                                                                 \n",
            "=================================================================\n",
            "Total params: 237,314\n",
            "Trainable params: 237,314\n",
            "Non-trainable params: 0\n",
            "_________________________________________________________________\n"
          ]
        }
      ]
    },
    {
      "cell_type": "code",
      "source": [],
      "metadata": {
        "id": "NxF1AFPiThsp"
      },
      "execution_count": null,
      "outputs": []
    },
    {
      "cell_type": "code",
      "source": [
        "from keras import callbacks\n",
        "earlystopping = callbacks.EarlyStopping(monitor =\"val_loss\", \n",
        "                                        mode =\"min\", patience = 3, \n",
        "                                        restore_best_weights = True)"
      ],
      "metadata": {
        "id": "mraLqe9jvaLa"
      },
      "execution_count": null,
      "outputs": []
    },
    {
      "cell_type": "code",
      "source": [],
      "metadata": {
        "id": "diCgUbOoTo-R"
      },
      "execution_count": null,
      "outputs": []
    },
    {
      "cell_type": "code",
      "source": [],
      "metadata": {
        "id": "aZ4B6f47vf6z"
      },
      "execution_count": null,
      "outputs": []
    },
    {
      "cell_type": "code",
      "source": [],
      "metadata": {
        "id": "ljBIMElNaPYn"
      },
      "execution_count": null,
      "outputs": []
    },
    {
      "cell_type": "code",
      "source": [
        "history = model.fit(X_train, y_train, epochs = nr, validation_data= (X_test, y_test),callbacks =[earlystopping])\n",
        "history"
      ],
      "metadata": {
        "colab": {
          "base_uri": "https://localhost:8080/"
        },
        "id": "-vPpQsdbveBj",
        "outputId": "f05b595f-76dd-4332-bc56-dd06129be296"
      },
      "execution_count": null,
      "outputs": [
        {
          "output_type": "stream",
          "name": "stdout",
          "text": [
            "Epoch 1/8\n",
            "16854/16854 [==============================] - 194s 11ms/step - loss: 0.0098 - accuracy: 0.9969 - val_loss: 0.0057 - val_accuracy: 0.9974\n",
            "Epoch 2/8\n",
            "16854/16854 [==============================] - 192s 11ms/step - loss: 0.0046 - accuracy: 0.9983 - val_loss: 0.0040 - val_accuracy: 0.9987\n",
            "Epoch 3/8\n",
            "16854/16854 [==============================] - 194s 12ms/step - loss: 0.0044 - accuracy: 0.9985 - val_loss: 0.0064 - val_accuracy: 0.9984\n",
            "Epoch 4/8\n",
            "16854/16854 [==============================] - 190s 11ms/step - loss: 0.0160 - accuracy: 0.9986 - val_loss: 0.0033 - val_accuracy: 0.9991\n",
            "Epoch 5/8\n",
            "16854/16854 [==============================] - 203s 12ms/step - loss: 0.0039 - accuracy: 0.9987 - val_loss: 0.0041 - val_accuracy: 0.9989\n",
            "Epoch 6/8\n",
            "16854/16854 [==============================] - 187s 11ms/step - loss: 0.0053 - accuracy: 0.9988 - val_loss: 0.0030 - val_accuracy: 0.9989\n",
            "Epoch 7/8\n",
            "16854/16854 [==============================] - 199s 12ms/step - loss: 0.0112 - accuracy: 0.9989 - val_loss: 0.0100 - val_accuracy: 0.9992\n",
            "Epoch 8/8\n",
            "16854/16854 [==============================] - 189s 11ms/step - loss: 0.0047 - accuracy: 0.9989 - val_loss: 0.0204 - val_accuracy: 0.9977\n"
          ]
        },
        {
          "output_type": "execute_result",
          "data": {
            "text/plain": [
              "<keras.callbacks.History at 0x7f421c763be0>"
            ]
          },
          "metadata": {},
          "execution_count": 65
        }
      ]
    },
    {
      "cell_type": "code",
      "source": [],
      "metadata": {
        "id": "b_9EBdADTp19"
      },
      "execution_count": null,
      "outputs": []
    },
    {
      "cell_type": "code",
      "source": [
        "acc2 = model.evaluate(X_test, y_test)"
      ],
      "metadata": {
        "colab": {
          "base_uri": "https://localhost:8080/"
        },
        "id": "-IHqtnnAvg9N",
        "outputId": "85cd9364-fa86-472a-f5ab-550e26c5195c"
      },
      "execution_count": null,
      "outputs": [
        {
          "output_type": "stream",
          "name": "stdout",
          "text": [
            "4214/4214 [==============================] - 18s 4ms/step - loss: 0.0204 - accuracy: 0.9977\n"
          ]
        }
      ]
    },
    {
      "cell_type": "code",
      "source": [],
      "metadata": {
        "id": "9jCbFiS3ZvTr"
      },
      "execution_count": null,
      "outputs": []
    },
    {
      "cell_type": "code",
      "source": [
        "ans=model.predict(X_test)"
      ],
      "metadata": {
        "colab": {
          "base_uri": "https://localhost:8080/"
        },
        "id": "0MhhCYea7lE1",
        "outputId": "5d8f802d-eaff-444d-8ee9-c3d359db2e29"
      },
      "execution_count": null,
      "outputs": [
        {
          "output_type": "stream",
          "name": "stdout",
          "text": [
            "4214/4214 [==============================] - 17s 4ms/step\n"
          ]
        }
      ]
    },
    {
      "cell_type": "code",
      "source": [],
      "metadata": {
        "id": "jv0StnZBaC7K"
      },
      "execution_count": null,
      "outputs": []
    },
    {
      "cell_type": "code",
      "source": [
        "y_pred=np.argmax(ans, axis=1) \n",
        "y_test=np.argmax(y_test, axis=1)\n",
        "cm = confusion_matrix(y_test, y_pred)"
      ],
      "metadata": {
        "id": "LO4Ic3D8CBeS"
      },
      "execution_count": null,
      "outputs": []
    },
    {
      "cell_type": "code",
      "source": [],
      "metadata": {
        "id": "kBVN50_XCIA1"
      },
      "execution_count": null,
      "outputs": []
    },
    {
      "cell_type": "code",
      "source": [
        "cm"
      ],
      "metadata": {
        "colab": {
          "base_uri": "https://localhost:8080/"
        },
        "id": "orIOjKXhB_WC",
        "outputId": "455c99dd-aa92-405c-c895-1ce5146417b8"
      },
      "execution_count": null,
      "outputs": [
        {
          "output_type": "execute_result",
          "data": {
            "text/plain": [
              "array([[107309,     79],\n",
              "       [   234,  27205]])"
            ]
          },
          "metadata": {},
          "execution_count": 69
        }
      ]
    },
    {
      "cell_type": "code",
      "source": [
        "import matplotlib.pyplot as plt\n",
        "import seaborn as sns\n",
        "sns.heatmap(cm, annot=True)\n"
      ],
      "metadata": {
        "colab": {
          "base_uri": "https://localhost:8080/",
          "height": 283
        },
        "id": "m1C6MrZZCJRo",
        "outputId": "1344b145-3d24-4c5b-bf51-c05b86292441"
      },
      "execution_count": null,
      "outputs": [
        {
          "output_type": "execute_result",
          "data": {
            "text/plain": [
              "<AxesSubplot:>"
            ]
          },
          "metadata": {},
          "execution_count": 70
        },
        {
          "output_type": "display_data",
          "data": {
            "text/plain": [
              "<Figure size 432x288 with 2 Axes>"
            ],
            "image/png": "[encoded data removed]"
          },
          "metadata": {
            "needs_background": "light"
          }
        }
      ]
    },
    {
      "cell_type": "code",
      "source": [
        "sns.heatmap(cm/np.sum(cm), annot=True, \n",
        "            fmt='.2%', cmap='Blues')"
      ],
      "metadata": {
        "colab": {
          "base_uri": "https://localhost:8080/",
          "height": 283
        },
        "id": "Le-MDrKwCNl7",
        "outputId": "cab7a616-7012-423d-cf05-b5c0bea24c3a"
      },
      "execution_count": null,
      "outputs": [
        {
          "output_type": "execute_result",
          "data": {
            "text/plain": [
              "<AxesSubplot:>"
            ]
          },
          "metadata": {},
          "execution_count": 71
        },
        {
          "output_type": "display_data",
          "data": {
            "text/plain": [
              "<Figure size 432x288 with 2 Axes>"
            ],
            "image/png": "[encoded data removed]"
          },
          "metadata": {
            "needs_background": "light"
          }
        }
      ]
    },
    {
      "cell_type": "code",
      "source": [
        "TP=cm[0][0]\n",
        "FN=cm[0][1]\n",
        "FP=cm[1][0]\n",
        "TN=cm[1][1]"
      ],
      "metadata": {
        "id": "7vrGfYx3CRQK"
      },
      "execution_count": null,
      "outputs": []
    },
    {
      "cell_type": "code",
      "source": [
        "from sklearn.metrics import precision_recall_fscore_support"
      ],
      "metadata": {
        "id": "uDfVWWTdCTOn"
      },
      "execution_count": null,
      "outputs": []
    },
    {
      "cell_type": "code",
      "source": [
        "prec_best=TP/(FP+TP)\n",
        "sum=0\n",
        "print(\"prec_best\",prec_best)\n",
        "for i in range(1,nr+1,1):\n",
        "    sum=sum+pow(prec_best,i)\n",
        "print(\"sum\",sum)\n",
        "av_prec=sum/nr\n",
        "print(\"Average Precision av_prec\",av_prec)"
      ],
      "metadata": {
        "colab": {
          "base_uri": "https://localhost:8080/"
        },
        "id": "dtgdtu_aCdDg",
        "outputId": "a27619cc-f266-47da-9265-fdeabab291e3"
      },
      "execution_count": null,
      "outputs": [
        {
          "output_type": "stream",
          "name": "stdout",
          "text": [
            "prec_best 0.9978241261634881\n",
            "sum 7.922064938578765\n",
            "Average Precision av_prec 0.9902581173223456\n"
          ]
        }
      ]
    },
    {
      "cell_type": "code",
      "source": [],
      "metadata": {
        "id": "KLmSHkmFCglc"
      },
      "execution_count": null,
      "outputs": []
    },
    {
      "cell_type": "code",
      "source": [],
      "metadata": {
        "id": "WuuFIuAqaKcp"
      },
      "execution_count": null,
      "outputs": []
    },
    {
      "cell_type": "code",
      "source": [],
      "metadata": {
        "id": "sPzpbIHXvOSc"
      },
      "execution_count": null,
      "outputs": []
    },
    {
      "cell_type": "code",
      "source": [],
      "metadata": {
        "id": "YSdQUtY2aLCL"
      },
      "execution_count": null,
      "outputs": []
    },
    {
      "cell_type": "code",
      "source": [],
      "metadata": {
        "id": "oReowPwDvHpy"
      },
      "execution_count": null,
      "outputs": []
    },
    {
      "cell_type": "code",
      "source": [],
      "metadata": {
        "id": "0yUkJxf2aLin"
      },
      "execution_count": null,
      "outputs": []
    },
    {
      "cell_type": "code",
      "source": [],
      "metadata": {
        "id": "Eo2_5kjNtwhz"
      },
      "execution_count": null,
      "outputs": []
    },
    {
      "cell_type": "code",
      "source": [],
      "metadata": {
        "id": "TicW_oEfaMNP"
      },
      "execution_count": null,
      "outputs": []
    },
    {
      "cell_type": "code",
      "source": [],
      "metadata": {
        "id": "kqIqBewXxlc7"
      },
      "execution_count": null,
      "outputs": []
    },
    {
      "cell_type": "code",
      "source": [],
      "metadata": {
        "id": "WIAGTngQaMty"
      },
      "execution_count": null,
      "outputs": []
    },
    {
      "cell_type": "code",
      "source": [],
      "metadata": {
        "id": "gNSNtW5IttAB"
      },
      "execution_count": null,
      "outputs": []
    },
    {
      "cell_type": "code",
      "source": [],
      "metadata": {
        "id": "3Ds0kgKuaNb5"
      },
      "execution_count": null,
      "outputs": []
    }
  ]
}